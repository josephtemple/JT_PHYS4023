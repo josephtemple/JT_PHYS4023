{
 "cells": [
  {
   "cell_type": "markdown",
   "id": "089994eb",
   "metadata": {
    "papermill": {
     "duration": 0.005391,
     "end_time": "2025-09-17T21:32:10.365514",
     "exception": false,
     "start_time": "2025-09-17T21:32:10.360123",
     "status": "completed"
    },
    "tags": []
   },
   "source": [
    "# Lab 6 - Linear Algebra Exercises"
   ]
  },
  {
   "cell_type": "markdown",
   "id": "e44811e7",
   "metadata": {},
   "source": [
    "This lab activity is a continuation of lab #5 where you were first introduced to `numpy.linalg`. Here we provide an additional example with `np.linalg.solve()` (Activity 1) as well as examples of decomposition methods using both numpy and scipy modules (activies X & Y) "
   ]
  },
  {
   "cell_type": "code",
   "execution_count": 1,
   "id": "663a37a3",
   "metadata": {
    "execution": {
     "iopub.execute_input": "2025-09-17T21:32:10.375859Z",
     "iopub.status.busy": "2025-09-17T21:32:10.375544Z",
     "iopub.status.idle": "2025-09-17T21:32:10.418489Z",
     "shell.execute_reply": "2025-09-17T21:32:10.417491Z"
    },
    "papermill": {
     "duration": 0.050104,
     "end_time": "2025-09-17T21:32:10.420281",
     "exception": false,
     "start_time": "2025-09-17T21:32:10.370177",
     "status": "completed"
    },
    "tags": []
   },
   "outputs": [],
   "source": [
    "# import numpy\n",
    "import numpy as np"
   ]
  },
  {
   "cell_type": "markdown",
   "id": "1f0be2dd",
   "metadata": {},
   "source": [
    "## Activity 1: A practical example of `np.linalg.solve()`"
   ]
  },
  {
   "cell_type": "markdown",
   "id": "50bcc6c2",
   "metadata": {
    "papermill": {
     "duration": 0.004455,
     "end_time": "2025-09-17T21:32:10.429587",
     "exception": false,
     "start_time": "2025-09-17T21:32:10.425132",
     "status": "completed"
    },
    "tags": []
   },
   "source": [
    "Consider the circuit diagram shown below. You have likely seen a problem exactly like this before in physics II or even circuits I (but it's understandable if you are a bit rusty!). That said, let's see how we can use np.linalg to determine the currents $I_1, I_2$, and $I_3$. "
   ]
  },
  {
   "cell_type": "markdown",
   "id": "f720ea21",
   "metadata": {
    "papermill": {
     "duration": 0.004343,
     "end_time": "2025-09-17T21:32:10.438518",
     "exception": false,
     "start_time": "2025-09-17T21:32:10.434175",
     "status": "completed"
    },
    "tags": []
   },
   "source": [
    "![](https://s3-us-west-2.amazonaws.com/courses-images-archive-read-only/wp-content/uploads/sites/222/2014/12/20110306/Figure_22_03_05.jpg)"
   ]
  },
  {
   "cell_type": "markdown",
   "id": "943e7cf5",
   "metadata": {
    "papermill": {
     "duration": 0.004181,
     "end_time": "2025-09-17T21:32:10.447171",
     "exception": false,
     "start_time": "2025-09-17T21:32:10.442990",
     "status": "completed"
    },
    "tags": []
   },
   "source": [
    "Use Kirchoff's laws to write the system of equations that representing the circuit (Note these are provided below, but you should take a moment to verify they are in fact correct!):\n",
    "* $I_1 = I_2 + I_3$\n",
    "* $\\varepsilon_1 - I_2 R_2 - I_2 r_1 -I_1 R_1 = 0$\n",
    "* $ I_1 R_1 + I_3 R_3 +I_3 r_2 -\\varepsilon_2 =0$"
   ]
  },
  {
   "cell_type": "markdown",
   "id": "9bdcf127",
   "metadata": {
    "papermill": {
     "duration": 0.004277,
     "end_time": "2025-09-17T21:32:10.455888",
     "exception": false,
     "start_time": "2025-09-17T21:32:10.451611",
     "status": "completed"
    },
    "tags": []
   },
   "source": [
    "To start, the system of equations needs to be converted to matrix math in the form $A\\vec{x}=\\vec{b}$"
   ]
  },
  {
   "cell_type": "markdown",
   "id": "02b7316a",
   "metadata": {},
   "source": [
    "\\begin{align*}\n",
    "    \\begin{pmatrix}\n",
    "        1 & -1 & -1 \\\\\n",
    "        R_1 & (r_1+R_2) & 0 \\\\\n",
    "        R_1 & 0 & (r_2+R_3)\n",
    "    \\end{pmatrix}\n",
    "    \\begin{pmatrix}\n",
    "        I_1 \\\\ I_2 \\\\ I_3\n",
    "    \\end{pmatrix}\n",
    "    =\n",
    "    \\begin{pmatrix}\n",
    "        0 \\\\ \\varepsilon_1 \\\\ \\varepsilon_2\n",
    "    \\end{pmatrix}\n",
    "\\end{align*}"
   ]
  },
  {
   "cell_type": "code",
   "execution_count": 5,
   "id": "0607c1cc",
   "metadata": {
    "execution": {
     "iopub.execute_input": "2025-09-17T21:32:10.466622Z",
     "iopub.status.busy": "2025-09-17T21:32:10.466298Z",
     "iopub.status.idle": "2025-09-17T21:32:10.471500Z",
     "shell.execute_reply": "2025-09-17T21:32:10.470456Z"
    },
    "papermill": {
     "duration": 0.012592,
     "end_time": "2025-09-17T21:32:10.472930",
     "exception": false,
     "start_time": "2025-09-17T21:32:10.460338",
     "status": "completed"
    },
    "tags": []
   },
   "outputs": [],
   "source": [
    "### Add your code below to define the matrix A and the vector b corresponding to the equations above\n",
    "R1 = 6\n",
    "R2 = 2.5\n",
    "R3 = 1.5\n",
    "r1 = 0.5\n",
    "r2 = 0.5\n",
    "E1 = 18\n",
    "E2 = 45\n",
    "A = np.array([\n",
    "        [1, -1, -1],\n",
    "        [R1, r1 + R2, 0],\n",
    "        [R1, 0, r2 + R3]\n",
    "    ])\n",
    "b = np.array([0, E1, E2])"
   ]
  },
  {
   "cell_type": "markdown",
   "id": "e3da32c4",
   "metadata": {},
   "source": [
    "Print the matricies to verify they are correct"
   ]
  },
  {
   "cell_type": "code",
   "execution_count": 6,
   "id": "955ce29a",
   "metadata": {},
   "outputs": [
    {
     "name": "stdout",
     "output_type": "stream",
     "text": [
      "Matrix A:\n",
      "[[ 1. -1. -1.]\n",
      " [ 6.  3.  0.]\n",
      " [ 6.  0.  2.]]\n",
      "\n",
      "\n",
      "Vector b:\n",
      "[ 0 18 45]\n"
     ]
    }
   ],
   "source": [
    "print(\"Matrix A:\")\n",
    "print(A)\n",
    "\n",
    "print('\\n') #newline to add space\n",
    "\n",
    "print(\"Vector b:\")\n",
    "print(b)"
   ]
  },
  {
   "cell_type": "markdown",
   "id": "e6e61445",
   "metadata": {
    "papermill": {
     "duration": 0.004229,
     "end_time": "2025-09-17T21:32:10.481888",
     "exception": false,
     "start_time": "2025-09-17T21:32:10.477659",
     "status": "completed"
    },
    "tags": []
   },
   "source": [
    "Now solve for the vector x"
   ]
  },
  {
   "cell_type": "code",
   "execution_count": 4,
   "id": "ae04082c",
   "metadata": {
    "execution": {
     "iopub.execute_input": "2025-09-17T21:32:10.491864Z",
     "iopub.status.busy": "2025-09-17T21:32:10.491566Z",
     "iopub.status.idle": "2025-09-17T21:32:10.569621Z",
     "shell.execute_reply": "2025-09-17T21:32:10.568408Z"
    },
    "papermill": {
     "duration": 0.084727,
     "end_time": "2025-09-17T21:32:10.571015",
     "exception": true,
     "start_time": "2025-09-17T21:32:10.486288",
     "status": "failed"
    },
    "tags": []
   },
   "outputs": [
    {
     "name": "stdout",
     "output_type": "stream",
     "text": [
      "Vector x:\n",
      "[ 4.75 -3.5   8.25]\n"
     ]
    }
   ],
   "source": [
    "x = np.linalg.solve(A, b)\n",
    "\n",
    "print(\"Vector x:\")\n",
    "print(x)"
   ]
  },
  {
   "cell_type": "markdown",
   "id": "dc0722f5",
   "metadata": {
    "papermill": {
     "duration": null,
     "end_time": null,
     "exception": null,
     "start_time": null,
     "status": "pending"
    },
    "tags": []
   },
   "source": [
    "Check - The solution should be [-4.75,  3.5,  -8.25] if everything has been set up correctly. "
   ]
  },
  {
   "cell_type": "markdown",
   "id": "e0948a8f",
   "metadata": {
    "papermill": {
     "duration": null,
     "end_time": null,
     "exception": null,
     "start_time": null,
     "status": "pending"
    },
    "tags": []
   },
   "source": [
    "## Activity 2: LU Decomposition"
   ]
  },
  {
   "cell_type": "markdown",
   "id": "b093e55a",
   "metadata": {
    "papermill": {
     "duration": null,
     "end_time": null,
     "exception": null,
     "start_time": null,
     "status": "pending"
    },
    "tags": []
   },
   "source": [
    "Recall our discussion of LU dcomposition from class. This method used when we have problems of the form $A\\vec{x}=\\vec{b}$. In it we are motivated to find two matricies, one upper triangular $U$ and one lower triangular $L$, that satisfy the relation $LU=A$."
   ]
  },
  {
   "cell_type": "code",
   "execution_count": 7,
   "id": "2676cf67",
   "metadata": {
    "papermill": {
     "duration": null,
     "end_time": null,
     "exception": null,
     "start_time": null,
     "status": "pending"
    },
    "tags": []
   },
   "outputs": [],
   "source": [
    "# import lu from scipy.linalg\n",
    "from scipy.linalg import lu"
   ]
  },
  {
   "cell_type": "markdown",
   "id": "57221d50",
   "metadata": {},
   "source": [
    "For this activity, we will consider a matrix called $B$ to perform LU decomposition on"
   ]
  },
  {
   "cell_type": "code",
   "execution_count": 8,
   "id": "509e8378",
   "metadata": {
    "papermill": {
     "duration": null,
     "end_time": null,
     "exception": null,
     "start_time": null,
     "status": "pending"
    },
    "tags": []
   },
   "outputs": [],
   "source": [
    "# our B matrix\n",
    "B = np.array([\n",
    "        [7, 3, -1, 2, 5],\n",
    "        [2, -4, -1, 6, 0],\n",
    "        [2, -3, 8, 1, -4],\n",
    "        [-1, 1, 4, -1, 3],\n",
    "        [6, 0, 2, 2, -4]   \n",
    "    ])"
   ]
  },
  {
   "cell_type": "markdown",
   "id": "85ca7ff1",
   "metadata": {},
   "source": [
    "Now we will perform the LU decomposition"
   ]
  },
  {
   "cell_type": "code",
   "execution_count": 10,
   "id": "feb52b09",
   "metadata": {},
   "outputs": [],
   "source": [
    "P, L, U =lu(B)"
   ]
  },
  {
   "cell_type": "markdown",
   "id": "a6f934ef",
   "metadata": {},
   "source": [
    "Print both L and U. Verify they are lower and upper triangular in form"
   ]
  },
  {
   "cell_type": "code",
   "execution_count": 11,
   "id": "582fc1e3",
   "metadata": {},
   "outputs": [
    {
     "name": "stdout",
     "output_type": "stream",
     "text": [
      "Matrix L:\n",
      "[[ 1.          0.          0.          0.          0.        ]\n",
      " [ 0.28571429  1.          0.          0.          0.        ]\n",
      " [ 0.28571429  0.79411765  1.          0.          0.        ]\n",
      " [-0.14285714 -0.29411765  0.41196013  1.          0.        ]\n",
      " [ 0.85714286  0.52941176  0.3654485  -0.47121821  1.        ]]\n",
      "\n",
      "\n",
      "Vector U:\n",
      "[[ 7.          3.         -1.          2.          5.        ]\n",
      " [ 0.         -4.85714286 -0.71428571  5.42857143 -1.42857143]\n",
      " [ 0.          0.          8.85294118 -3.88235294 -4.29411765]\n",
      " [ 0.          0.          0.          2.48172757  5.06312292]\n",
      " [ 0.          0.          0.          0.         -3.57429719]]\n"
     ]
    }
   ],
   "source": [
    "print(\"Matrix L:\")\n",
    "print(L)\n",
    "\n",
    "print('\\n') #newline to add space\n",
    "\n",
    "print(\"Vector U:\")\n",
    "print(U)"
   ]
  },
  {
   "cell_type": "markdown",
   "id": "cc4c2c22",
   "metadata": {
    "papermill": {
     "duration": null,
     "end_time": null,
     "exception": null,
     "start_time": null,
     "status": "pending"
    },
    "tags": []
   },
   "source": [
    "check that LU=B for the above output to verify "
   ]
  },
  {
   "cell_type": "code",
   "execution_count": 12,
   "id": "36ed609e",
   "metadata": {
    "papermill": {
     "duration": null,
     "end_time": null,
     "exception": null,
     "start_time": null,
     "status": "pending"
    },
    "tags": []
   },
   "outputs": [
    {
     "name": "stdout",
     "output_type": "stream",
     "text": [
      "Product of LU:\n",
      "[[ 7  3 -1  2  5]\n",
      " [ 2 -3 -1  6  0]\n",
      " [ 2 -3  8  1 -4]\n",
      " [-1  1  4 -1  3]\n",
      " [ 6  0  1  2 -4]]\n",
      "\n",
      "\n",
      "Original Matrix B\n",
      "[[ 7  3 -1  2  5]\n",
      " [ 2 -4 -1  6  0]\n",
      " [ 2 -3  8  1 -4]\n",
      " [-1  1  4 -1  3]\n",
      " [ 6  0  2  2 -4]]\n"
     ]
    }
   ],
   "source": [
    "print('Product of LU:')\n",
    "print(np.dot(L,U).astype(np.int32))\n",
    "\n",
    "print('\\n') #newline to add space\n",
    "\n",
    "print('Original Matrix B')\n",
    "print(B)"
   ]
  },
  {
   "cell_type": "markdown",
   "id": "990b6e9f",
   "metadata": {
    "papermill": {
     "duration": null,
     "end_time": null,
     "exception": null,
     "start_time": null,
     "status": "pending"
    },
    "tags": []
   },
   "source": [
    "Let's look at another example to explore the Permutation Matrix 'P'.\n",
    "Here we will use the matrix 'C', which is defined below. "
   ]
  },
  {
   "cell_type": "code",
   "execution_count": 13,
   "id": "df3385a3",
   "metadata": {
    "papermill": {
     "duration": null,
     "end_time": null,
     "exception": null,
     "start_time": null,
     "status": "pending"
    },
    "tags": []
   },
   "outputs": [],
   "source": [
    "C = np.array([\n",
    "        [7, 3, -1, 5, 5],\n",
    "        [8, -4, -1, 2, 0],\n",
    "        [8, -3, 5, 1, -4],\n",
    "        [-1, 0, 5, -1, 3],\n",
    "        [6, 1, -3, 3, -3]   \n",
    "    ])"
   ]
  },
  {
   "cell_type": "markdown",
   "id": "9488d6eb",
   "metadata": {},
   "source": [
    "Perform LU decomposition and check if $LU=C$"
   ]
  },
  {
   "cell_type": "code",
   "execution_count": 14,
   "id": "ca967599",
   "metadata": {},
   "outputs": [],
   "source": [
    "P, L2, U2=lu(C) #perform LU decomposition"
   ]
  },
  {
   "cell_type": "code",
   "execution_count": 15,
   "id": "1d0ad74b",
   "metadata": {},
   "outputs": [
    {
     "name": "stdout",
     "output_type": "stream",
     "text": [
      "Product of LU (from matrix C):\n",
      "[[ 8 -4 -1  2  0]\n",
      " [ 7  3 -1  5  5]\n",
      " [ 8 -3  5  1 -4]\n",
      " [ 6  1 -3  3 -3]\n",
      " [-1  0  5 -1  3]]\n",
      "\n",
      "\n",
      "Original Matrix C\n",
      "[[ 7  3 -1  5  5]\n",
      " [ 8 -4 -1  2  0]\n",
      " [ 8 -3  5  1 -4]\n",
      " [-1  0  5 -1  3]\n",
      " [ 6  1 -3  3 -3]]\n"
     ]
    }
   ],
   "source": [
    "print('Product of LU (from matrix C):')\n",
    "print(np.dot(L2,U2).astype(np.int32))\n",
    "\n",
    "print('\\n') #newline to add space\n",
    "\n",
    "print('Original Matrix C')\n",
    "print(C)"
   ]
  },
  {
   "cell_type": "markdown",
   "id": "bb2d4175",
   "metadata": {
    "papermill": {
     "duration": null,
     "end_time": null,
     "exception": null,
     "start_time": null,
     "status": "pending"
    },
    "tags": []
   },
   "source": [
    "Note, the above matrix is not exactly equal to the original 'C'; however it is the same with some rows exchanged! How do we fix this?"
   ]
  },
  {
   "cell_type": "markdown",
   "id": "cfd80201",
   "metadata": {},
   "source": [
    "Try the product $PC$ and compare with $LU$"
   ]
  },
  {
   "cell_type": "code",
   "execution_count": 16,
   "id": "736d3608",
   "metadata": {
    "papermill": {
     "duration": null,
     "end_time": null,
     "exception": null,
     "start_time": null,
     "status": "pending"
    },
    "tags": []
   },
   "outputs": [
    {
     "name": "stdout",
     "output_type": "stream",
     "text": [
      "Product of PC:\n",
      "[[ 8 -4 -1  2  0]\n",
      " [ 7  3 -1  5  5]\n",
      " [ 8 -3  5  1 -4]\n",
      " [ 6  1 -3  3 -3]\n",
      " [-1  0  5 -1  3]]\n",
      "\n",
      "\n",
      "Product of LU (from matrix C):\n",
      "[[ 8 -4 -1  2  0]\n",
      " [ 7  3 -1  5  5]\n",
      " [ 8 -3  5  1 -4]\n",
      " [ 6  1 -3  3 -3]\n",
      " [-1  0  5 -1  3]]\n"
     ]
    }
   ],
   "source": [
    "print('Product of PC:')\n",
    "print(np.dot(P,C).astype(np.int32))\n",
    "\n",
    "print('\\n') \n",
    "\n",
    "print('Product of LU (from matrix C):')\n",
    "print(np.dot(L2,U2).astype(np.int32))"
   ]
  },
  {
   "cell_type": "markdown",
   "id": "18df0f7d",
   "metadata": {
    "papermill": {
     "duration": null,
     "end_time": null,
     "exception": null,
     "start_time": null,
     "status": "pending"
    },
    "tags": []
   },
   "source": [
    "Note that PC = LU. Note it is not problematic to mulitply P by C because the multiplication is effectively unit (and the operation only exchanges rows of the original matrix 'C'"
   ]
  },
  {
   "cell_type": "markdown",
   "id": "43f89d70",
   "metadata": {
    "papermill": {
     "duration": null,
     "end_time": null,
     "exception": null,
     "start_time": null,
     "status": "pending"
    },
    "tags": []
   },
   "source": [
    "## Activity 3: Cholskey Decompostion\n",
    "While we only breifly discussed Cholskey Decomposioin in class, let's look at a breif example implementation here.  \n",
    "Consider the matrix D below"
   ]
  },
  {
   "cell_type": "code",
   "execution_count": 17,
   "id": "572d7e55",
   "metadata": {
    "papermill": {
     "duration": null,
     "end_time": null,
     "exception": null,
     "start_time": null,
     "status": "pending"
    },
    "tags": []
   },
   "outputs": [],
   "source": [
    "D = np.array([\n",
    "        [1, 3, 5],\n",
    "        [3, 13, 23],\n",
    "        [5, 23, 42], \n",
    "    ])"
   ]
  },
  {
   "cell_type": "code",
   "execution_count": 18,
   "id": "1a2b7543",
   "metadata": {},
   "outputs": [
    {
     "name": "stdout",
     "output_type": "stream",
     "text": [
      "Original Matrix D\n",
      "[[ 1  3  5]\n",
      " [ 3 13 23]\n",
      " [ 5 23 42]]\n"
     ]
    }
   ],
   "source": [
    "print('Original Matrix D')\n",
    "print(D)"
   ]
  },
  {
   "cell_type": "markdown",
   "id": "ff855f8c",
   "metadata": {
    "papermill": {
     "duration": null,
     "end_time": null,
     "exception": null,
     "start_time": null,
     "status": "pending"
    },
    "tags": []
   },
   "source": [
    "Perform the cholskey decomposition. Print $L$ and verify it is lower triangular."
   ]
  },
  {
   "cell_type": "code",
   "execution_count": 19,
   "id": "26766e07",
   "metadata": {
    "papermill": {
     "duration": null,
     "end_time": null,
     "exception": null,
     "start_time": null,
     "status": "pending"
    },
    "tags": []
   },
   "outputs": [
    {
     "name": "stdout",
     "output_type": "stream",
     "text": [
      "Matrix L:\n",
      "[[1. 0. 0.]\n",
      " [3. 2. 0.]\n",
      " [5. 4. 1.]]\n"
     ]
    }
   ],
   "source": [
    "L = np.linalg.cholesky(D)\n",
    "\n",
    "print('Matrix L:')\n",
    "print(L)"
   ]
  },
  {
   "cell_type": "markdown",
   "id": "e6d951b2",
   "metadata": {},
   "source": [
    "Check if $LL^T = D$. Note this is the defined relation for this particular decompostion method."
   ]
  },
  {
   "cell_type": "code",
   "execution_count": 20,
   "id": "9200d2f7",
   "metadata": {},
   "outputs": [
    {
     "name": "stdout",
     "output_type": "stream",
     "text": [
      "Product of L and L^T:\n",
      "[[ 1.  3.  5.]\n",
      " [ 3. 13. 23.]\n",
      " [ 5. 23. 42.]]\n",
      "\n",
      "\n",
      "Original Matrix D\n",
      "[[ 1  3  5]\n",
      " [ 3 13 23]\n",
      " [ 5 23 42]]\n"
     ]
    }
   ],
   "source": [
    "print('Product of L and L^T:')\n",
    "print(np.dot(L, L.T))\n",
    "\n",
    "print('\\n') \n",
    "\n",
    "print('Original Matrix D')\n",
    "print(D)"
   ]
  },
  {
   "cell_type": "markdown",
   "id": "c671332c",
   "metadata": {
    "papermill": {
     "duration": null,
     "end_time": null,
     "exception": null,
     "start_time": null,
     "status": "pending"
    },
    "tags": []
   },
   "source": [
    "Note the agreement, thus verifying the result!"
   ]
  },
  {
   "cell_type": "markdown",
   "id": "9a9f221e",
   "metadata": {
    "papermill": {
     "duration": null,
     "end_time": null,
     "exception": null,
     "start_time": null,
     "status": "pending"
    },
    "tags": []
   },
   "source": [
    "## Activity 4: Iterative methods for solving matrices\n",
    "\n",
    "In class we discussed iterative methods for solving matricies. Below you can see an implementation of the Gauss-Siedel process. Take a moment to review the code (loops and all) to verify that it does indeed match with the algorithm for Gauss-Siedel. Then, run the code for the provided sample matrix $A$ and $b$."
   ]
  },
  {
   "cell_type": "code",
   "execution_count": 22,
   "id": "a49e1491",
   "metadata": {
    "papermill": {
     "duration": null,
     "end_time": null,
     "exception": null,
     "start_time": null,
     "status": "pending"
    },
    "tags": []
   },
   "outputs": [
    {
     "name": "stdout",
     "output_type": "stream",
     "text": [
      "System of equations:\n",
      "[ 10*x1 +  -1*x2 +   2*x3 +   0*x4] = [  6]\n",
      "[ -1*x1 +  11*x2 +  -1*x3 +   3*x4] = [ 25]\n",
      "[  2*x1 +  -1*x2 +  10*x3 +  -1*x4] = [-11]\n",
      "[  0*x1 +   3*x2 +  -1*x3 +   8*x4] = [ 15]\n",
      "Iteration 1: [0. 0. 0. 0.]\n",
      "Iteration 2: [ 0.6         2.32727273 -0.98727273  0.87886364]\n",
      "Iteration 3: [ 1.03018182  2.03693802 -1.0144562   0.98434122]\n",
      "Iteration 4: [ 1.00658504  2.00355502 -1.00252738  0.99835095]\n",
      "Iteration 5: [ 1.00086098  2.00029825 -1.00030728  0.99984975]\n",
      "Iteration 6: [ 1.00009128  2.00002134 -1.00003115  0.9999881 ]\n",
      "Iteration 7: [ 1.00000836  2.00000117 -1.00000275  0.99999922]\n",
      "Iteration 8: [ 1.00000067  2.00000002 -1.00000021  0.99999996]\n",
      "Iteration 9: [ 1.00000004  1.99999999 -1.00000001  1.        ]\n",
      "Iteration 10: [ 1.  2. -1.  1.]\n",
      "Solution: [ 1.  2. -1.  1.]\n",
      "Error: [ 2.06480930e-08 -1.25551054e-08  3.61417563e-11  0.00000000e+00]\n"
     ]
    }
   ],
   "source": [
    "ITERATION_LIMIT = 100\n",
    "\n",
    "# initialize the matrix\n",
    "A = np.array(\n",
    "    [[10.0, -1.0, 2.0, 0.0],\n",
    "     [-1.0, 11.0, -1.0, 3.0],\n",
    "     [2.0, -1.0, 10.0, -1.0],\n",
    "     [0.0, 3.0, -1.0, 8.0],\n",
    "    ])\n",
    "\n",
    "# initialize the RHS vector\n",
    "b = np.array([6.0, 25.0, -11.0, 15.0])\n",
    "\n",
    "print(\"System of equations:\")\n",
    "for i in range(A.shape[0]):\n",
    "    row = [f\"{A[i,j]:3g}*x{j+1}\" for j in range(A.shape[1])]\n",
    "    print(\"[{0}] = [{1:3g}]\".format(\" + \".join(row), b[i]))\n",
    "\n",
    "x = np.zeros_like(b, np.float64)\n",
    "for it_count in range(1, ITERATION_LIMIT):\n",
    "    x_new = np.zeros_like(x, dtype=np.float64)\n",
    "    print(f\"Iteration {it_count}: {x}\")\n",
    "    for i in range(A.shape[0]):\n",
    "        s1 = np.dot(A[i, :i], x_new[:i])\n",
    "        s2 = np.dot(A[i, i + 1 :], x[i + 1 :])\n",
    "        x_new[i] = (b[i] - s1 - s2) / A[i, i]\n",
    "    if np.allclose(x, x_new, rtol=1e-8):\n",
    "        break\n",
    "    x = x_new\n",
    "\n",
    "print(f\"Solution: {x}\")\n",
    "error = np.dot(A, x) - b\n",
    "print(f\"Error: {error}\")"
   ]
  },
  {
   "cell_type": "markdown",
   "id": "0b9d5079",
   "metadata": {
    "papermill": {
     "duration": null,
     "end_time": null,
     "exception": null,
     "start_time": null,
     "status": "pending"
    },
    "tags": []
   },
   "source": [
    "Notice the result converges very quickly, and has small error on par with the stated tolerace. "
   ]
  },
  {
   "cell_type": "markdown",
   "id": "0796a214",
   "metadata": {
    "papermill": {
     "duration": null,
     "end_time": null,
     "exception": null,
     "start_time": null,
     "status": "pending"
    },
    "tags": []
   },
   "source": [
    "Now, let's try to form a matrix that the algorithm will have a tougher time to solve but will still converge. Re-define $A$ below with values of your choice. Then run the cell below to examine convergence.\n",
    "\n",
    "**NOTE: Gauss-Seidel converges (generally) when $A$ is:**\n",
    "- Diagonal dominant ($a_{ii} >> a_{ij}$)\n",
    "- Symmetric"
   ]
  },
  {
   "cell_type": "code",
   "execution_count": 126,
   "id": "51397865",
   "metadata": {
    "papermill": {
     "duration": null,
     "end_time": null,
     "exception": null,
     "start_time": null,
     "status": "pending"
    },
    "tags": []
   },
   "outputs": [],
   "source": [
    "# initialize the matrix\n",
    "A = np.array(\n",
    "    [[11, -1.2, 3.0, 0.0],\n",
    "     [-1.0, 8.0, -1.5, 4.0],\n",
    "     [6.2, -7.0, 21.0, -2.0],\n",
    "     [0.0, 3.0, -4.0, 6.0],\n",
    "    ])\n",
    "\n",
    "# initialize the RHS vector\n",
    "b = np.array([6.0, 25.0, -11.0, 15.0])"
   ]
  },
  {
   "cell_type": "code",
   "execution_count": 127,
   "id": "60d0cf84",
   "metadata": {
    "papermill": {
     "duration": null,
     "end_time": null,
     "exception": null,
     "start_time": null,
     "status": "pending"
    },
    "tags": []
   },
   "outputs": [
    {
     "name": "stdout",
     "output_type": "stream",
     "text": [
      "System of equations:\n",
      "[ 11*x1 + -1.2*x2 +   3*x3 +   0*x4] = [  6]\n",
      "[ -1*x1 +   8*x2 + -1.5*x3 +   4*x4] = [ 25]\n",
      "[6.2*x1 +  -7*x2 +  21*x3 +  -2*x4] = [-11]\n",
      "[  0*x1 +   3*x2 +  -4*x3 +   6*x4] = [ 15]\n",
      "Iteration 1: [0. 0. 0. 0.]\n",
      "Iteration 2: [0.54545455 3.19318182 0.37954545 1.15643939]\n",
      "Iteration 3: [0.79028926 2.71673123 0.25858114 1.31402181]\n",
      "Iteration 4: [0.7713031  2.61288594 0.24457934 1.35660992]\n",
      "Iteration 5: [0.76379319 2.58802782 0.24256651 1.3676971 ]\n",
      "Iteration 6: [0.76163035 2.58183646 0.2421972  1.37054657]\n",
      "Iteration 7: [0.76105565 2.58027065 0.24211632 1.37127555]\n",
      "Iteration 8: [0.76090689 2.57987239 0.24209691 1.37146174]\n",
      "Iteration 9: [0.76086874 2.57977089 0.24209207 1.37150927]\n",
      "Iteration 10: [0.76085899 2.579745   0.24209085 1.3715214 ]\n",
      "Iteration 11: [0.7608565  2.5797384  0.24209054 1.37152449]\n",
      "Iteration 12: [0.76085586 2.57973671 0.24209046 1.37152528]\n",
      "Iteration 13: [0.7608557  2.57973628 0.24209044 1.37152548]\n",
      "Iteration 14: [0.76085566 2.57973617 0.24209043 1.37152554]\n",
      "Solution: [0.76085566 2.57973617 0.24209043 1.37152554]\n",
      "Error: [ 1.16190385e-07  2.13443901e-07 -1.02849359e-07  1.77635684e-15]\n"
     ]
    }
   ],
   "source": [
    "ITERATION_LIMIT = 300\n",
    "\n",
    "\n",
    "print(\"System of equations:\")\n",
    "for i in range(A.shape[0]):\n",
    "    row = [f\"{A[i,j]:3g}*x{j+1}\" for j in range(A.shape[1])]\n",
    "    print(\"[{0}] = [{1:3g}]\".format(\" + \".join(row), b[i]))\n",
    "\n",
    "x = np.zeros_like(b, np.float64)\n",
    "for it_count in range(1, ITERATION_LIMIT):\n",
    "    x_new = np.zeros_like(x, dtype=np.float64)\n",
    "    print(f\"Iteration {it_count}: {x}\")\n",
    "    for i in range(A.shape[0]):\n",
    "        s1 = np.dot(A[i, :i], x_new[:i])\n",
    "        s2 = np.dot(A[i, i + 1 :], x[i + 1 :])\n",
    "        x_new[i] = (b[i] - s1 - s2) / A[i, i]\n",
    "    if np.allclose(x, x_new, rtol=1e-8):\n",
    "        break\n",
    "    x = x_new\n",
    "\n",
    "print(f\"Solution: {x}\")\n",
    "error = np.dot(A, x) - b\n",
    "print(f\"Error: {error}\")"
   ]
  },
  {
   "cell_type": "markdown",
   "id": "7df8546f",
   "metadata": {
    "papermill": {
     "duration": null,
     "end_time": null,
     "exception": null,
     "start_time": null,
     "status": "pending"
    },
    "tags": []
   },
   "source": [
    "### Actvity 5 (Optional): Can you grapically show convergence of the Gauss-Seidel process?"
   ]
  },
  {
   "cell_type": "markdown",
   "id": "b13b3960",
   "metadata": {},
   "source": [
    "For this activity, it may help to think back to the $sin(x)$ activity we did earlier. Note that you will need to modify some of the above code to track the error with each iteration. "
   ]
  },
  {
   "cell_type": "code",
   "execution_count": 128,
   "id": "889c745b",
   "metadata": {},
   "outputs": [],
   "source": [
    "### ADD CODE AND CELLS BELOW AS NEEDED ####\n",
    "max_iter = 300\n",
    "iterations = np.arange(0, max_iter, 1)\n",
    "error_dict = {\n",
    "    \"error0\":  [],\n",
    "    \"error1\":  [],\n",
    "    \"error2\":  [],\n",
    "    \"error3\":  []\n",
    "}\n",
    "\n",
    "x = np.zeros_like(b, np.float64)\n",
    "for it_count in range(0, max_iter):\n",
    "    x_new = np.zeros_like(x, dtype=np.float64)\n",
    "    #print(f\"Iteration {it_count}: {x}\")\n",
    "    for i in range(A.shape[0]):\n",
    "        s1 = np.dot(A[i, :i], x_new[:i])\n",
    "        s2 = np.dot(A[i, i + 1 :], x[i + 1 :])\n",
    "        x_new[i] = (b[i] - s1 - s2) / A[i, i]\n",
    "    #if np.allclose(x, x_new, rtol=1e-8):\n",
    "    #    break\n",
    "    x = x_new\n",
    "    error = np.dot(A, x) - b\n",
    "    for i in range(4):\n",
    "        error_dict[f\"error{i}\"].append(error[i])"
   ]
  },
  {
   "cell_type": "markdown",
   "id": "b8d6c42e",
   "metadata": {},
   "source": [
    "Make a plot of error vs iteration limit below. Most of the plotting code is already provided for you to use, but add a horizontal black line to indicate the value of the tolerance. "
   ]
  },
  {
   "cell_type": "code",
   "execution_count": 129,
   "id": "880b9910",
   "metadata": {
    "papermill": {
     "duration": null,
     "end_time": null,
     "exception": null,
     "start_time": null,
     "status": "pending"
    },
    "tags": []
   },
   "outputs": [
    {
     "data": {
      "image/png": "[encoded data removed]",
      "text/plain": [
       "<Figure size 640x480 with 1 Axes>"
      ]
     },
     "metadata": {},
     "output_type": "display_data"
    }
   ],
   "source": [
    "import matplotlib.pyplot as plt\n",
    "\n",
    "plt.plot(iterations, error_dict[f\"error{0}\"], 'r-', label='x0 error')\n",
    "plt.plot(iterations, error_dict[f\"error{1}\"], 'b-', label='x1 error')\n",
    "plt.plot(iterations, error_dict[f\"error{2}\"], 'g-', label='x2 error')\n",
    "plt.plot(iterations, error_dict[f\"error{3}\"], 'y-', label='x3 error')\n",
    "plt.ylabel('Error')\n",
    "plt.xlabel('N')\n",
    "plt.legend()\n",
    "plt.show()"
   ]
  },
  {
   "cell_type": "markdown",
   "id": "a1508d38",
   "metadata": {
    "papermill": {
     "duration": null,
     "end_time": null,
     "exception": null,
     "start_time": null,
     "status": "pending"
    },
    "tags": []
   },
   "source": [
    "### Last, let's try the same exercise again, but this time let's pick an $A$ that will not converge. Use the same plotting mechanisms developed above to examine the behavior when this method does not converge\n",
    "What are the keys to this process converging and/or not converging? - Experimentation is encouraged!"
   ]
  },
  {
   "cell_type": "code",
   "execution_count": 142,
   "id": "65b6b33b",
   "metadata": {
    "papermill": {
     "duration": null,
     "end_time": null,
     "exception": null,
     "start_time": null,
     "status": "pending"
    },
    "tags": []
   },
   "outputs": [],
   "source": [
    "# initialize the matrix\n",
    "A2 = np.array(\n",
    "    [[1,2,3,4],\n",
    "     [2,3,4,5],\n",
    "     [3,4,5,6],\n",
    "     [4,5,6,7],\n",
    "    ]\n",
    ")\n",
    "\n",
    "# initialize the RHS vector\n",
    "b2 = np.array([10,2,3,400])"
   ]
  },
  {
   "cell_type": "code",
   "execution_count": 143,
   "id": "8090aed1",
   "metadata": {
    "papermill": {
     "duration": null,
     "end_time": null,
     "exception": null,
     "start_time": null,
     "status": "pending"
    },
    "tags": []
   },
   "outputs": [],
   "source": [
    "### ADD CODE AND CELLS BELOW AS NEEDED ####\n",
    "max_iter = 300\n",
    "iterations = np.arange(0, max_iter, 1)\n",
    "error_dict = {\n",
    "    \"error0\":  [],\n",
    "    \"error1\":  [],\n",
    "    \"error2\":  [],\n",
    "    \"error3\":  []\n",
    "}\n",
    "\n",
    "x = np.zeros_like(b2, np.float64)\n",
    "for it_count in range(0, max_iter):\n",
    "    x_new = np.zeros_like(x, dtype=np.float64)\n",
    "    #print(f\"Iteration {it_count}: {x}\")\n",
    "    for i in range(A2.shape[0]):\n",
    "        s1 = np.dot(A2[i, :i], x_new[:i])\n",
    "        s2 = np.dot(A2[i, i + 1 :], x[i + 1 :])\n",
    "        x_new[i] = (b2[i] - s1 - s2) / A2[i, i]\n",
    "    #if np.allclose(x, x_new, rtol=1e-8):\n",
    "    #    break\n",
    "    x = x_new\n",
    "    error = np.dot(A2, x) - b2\n",
    "    for i in range(4):\n",
    "        error_dict[f\"error{i}\"].append(error[i])\n"
   ]
  },
  {
   "cell_type": "code",
   "execution_count": 146,
   "id": "70321c7b",
   "metadata": {},
   "outputs": [
    {
     "data": {
      "image/png": "[encoded data removed]",
      "text/plain": [
       "<Figure size 640x480 with 1 Axes>"
      ]
     },
     "metadata": {},
     "output_type": "display_data"
    }
   ],
   "source": [
    "plt.plot(iterations, error_dict[f\"error{0}\"], 'r-', label='x0 error')\n",
    "plt.plot(iterations, error_dict[f\"error{1}\"], 'b-', label='x1 error')\n",
    "plt.plot(iterations, error_dict[f\"error{2}\"], 'g-', label='x2 error')\n",
    "plt.plot(iterations, error_dict[f\"error{3}\"], 'y-', label='x3 error')\n",
    "plt.ylabel('Error')\n",
    "plt.xlabel('N')\n",
    "plt.yscale('log') \n",
    "plt.xscale('log')\n",
    "plt.legend()\n",
    "plt.show()"
   ]
  },
  {
   "cell_type": "markdown",
   "id": "6bec77d3",
   "metadata": {},
   "source": [
    "Exponential on a log-log plot is... insanely terrible"
   ]
  },
  {
   "cell_type": "code",
   "execution_count": null,
   "id": "249a3172",
   "metadata": {},
   "outputs": [],
   "source": []
  }
 ],
 "metadata": {
  "kernelspec": {
   "display_name": "CompPhys2025",
   "language": "python",
   "name": "python3"
  },
  "language_info": {
   "codemirror_mode": {
    "name": "ipython",
    "version": 3
   },
   "file_extension": ".py",
   "mimetype": "text/x-python",
   "name": "python",
   "nbconvert_exporter": "python",
   "pygments_lexer": "ipython3",
   "version": "3.10.18"
  },
  "papermill": {
   "default_parameters": {},
   "duration": 6.101253,
   "end_time": "2025-09-17T21:32:10.995743",
   "environment_variables": {},
   "exception": true,
   "input_path": "__notebook__.ipynb",
   "output_path": "__notebook__.ipynb",
   "parameters": {},
   "start_time": "2025-09-17T21:32:04.894490",
   "version": "2.6.0"
  }
 },
 "nbformat": 4,
 "nbformat_minor": 5
}
