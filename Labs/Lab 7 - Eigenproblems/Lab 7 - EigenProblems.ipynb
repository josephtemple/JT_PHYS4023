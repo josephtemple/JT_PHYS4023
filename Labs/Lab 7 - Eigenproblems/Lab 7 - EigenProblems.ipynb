{
 "cells": [
  {
   "cell_type": "markdown",
   "id": "2786f3fc",
   "metadata": {},
   "source": [
    "# Lab 7 - Eigenproblems"
   ]
  },
  {
   "cell_type": "markdown",
   "id": "8a44c81e",
   "metadata": {},
   "source": [
    "In this set of lab activities, we will explore eigenvlaues, eigenvectors, and related methods. Remember from class that we have the relationship:\n",
    "\n",
    "$$\n",
    "\\mathsf{A} \\vec{v}_i = \\lambda_i \\vec{v}_i\n",
    "$$\n",
    "\n",
    "where $\\vec{v}_i$ is the eigenvector of the matrix $\\mathsf{A}$ corresponding to the eigenvalue $\\lambda_i$. "
   ]
  },
  {
   "cell_type": "markdown",
   "id": "494d9a0b",
   "metadata": {},
   "source": [
    "### Activity 1: Eigenvalues and Eigenvectors"
   ]
  },
  {
   "cell_type": "code",
   "execution_count": 1,
   "id": "d7dda8be",
   "metadata": {},
   "outputs": [],
   "source": [
    "#import libraries\n",
    "import numpy as np\n",
    "import matplotlib.pyplot as plt"
   ]
  },
  {
   "cell_type": "markdown",
   "id": "7b88e6ce",
   "metadata": {},
   "source": [
    "Let's start with a simple example of a 2x2 matrix. Use `np.linalg.eig()' to find eigenvalues and eigenvectors. "
   ]
  },
  {
   "cell_type": "code",
   "execution_count": 2,
   "id": "6004a7ee",
   "metadata": {},
   "outputs": [],
   "source": [
    "# Simple 2x2 matrix example\n",
    "A_2x2 = np.array([[1, 2],\n",
    "                  [4, 3]])"
   ]
  },
  {
   "cell_type": "code",
   "execution_count": 3,
   "id": "3376f493",
   "metadata": {},
   "outputs": [
    {
     "name": "stdout",
     "output_type": "stream",
     "text": [
      "Matrix A:\n",
      "[[1 2]\n",
      " [4 3]]\n",
      "\n",
      "Eigenvalues: [-1.  5.]\n",
      "Eigenvectors:\n",
      "[[-0.70710678 -0.4472136 ]\n",
      " [ 0.70710678 -0.89442719]]\n"
     ]
    }
   ],
   "source": [
    "eigenvals, eigenvecs = np.linalg.eig(A_2x2)\n",
    "\n",
    "print(\"Matrix A:\")\n",
    "print(A_2x2)\n",
    "print(f\"\\nEigenvalues: {eigenvals}\")\n",
    "print(f\"Eigenvectors:\\n{eigenvecs}\")"
   ]
  },
  {
   "cell_type": "markdown",
   "id": "a9681394",
   "metadata": {},
   "source": [
    "Note this 2x2 matrix example is simple enough that you can easily find the eigenvalues yourself by finding roots of the characteristic equation:\n",
    "\n",
    "$$\n",
    "\\det (A - \\lambda I) = 0\n",
    "$$\n",
    "\n",
    "In class we showed that this is equivalent to:\n",
    "\n",
    "$$\n",
    "\\lambda_i = \\frac{\\text{trace}(\\mathsf{A}) \\pm \\sqrt{(\\text{trace}(\\mathsf{A}))^2 - 4 \\det(\\mathsf{A})}}{2}\n",
    "$$\n",
    "\n",
    "for a 2x2 matrix. Try implementing this in the cell below and use it to confirm the earlier results of `np.linalg.eig`. Some code is already provided for you to help. "
   ]
  },
  {
   "cell_type": "code",
   "execution_count": 4,
   "id": "23d04799",
   "metadata": {},
   "outputs": [
    {
     "name": "stdout",
     "output_type": "stream",
     "text": [
      "\n",
      "Eigenvalues: [ 5. -1.]\n"
     ]
    }
   ],
   "source": [
    "#compute trace and det of A_2x2\n",
    "trace_A=np.trace(A_2x2)\n",
    "det_A=np.linalg.det(A_2x2)\n",
    "\n",
    "### ADD CODE BELOW TO COMPLETE THE FORMULAS\n",
    "lambda_1 = (trace_A + np.sqrt(trace_A**2 - 4*det_A))/2\n",
    "\n",
    "lambda_2 = (trace_A - np.sqrt(trace_A**2 - 4*det_A))/2\n",
    "\n",
    "\n",
    "\n",
    "eigenvals = np.array([lambda_1, lambda_2])\n",
    "\n",
    "print(f\"\\nEigenvalues: {eigenvals}\")"
   ]
  },
  {
   "cell_type": "markdown",
   "id": "182dc972",
   "metadata": {},
   "source": [
    "Now lets look at a more complex example using a 3x3 matrix. Consider the matrix $\\mathsf{A}$ below"
   ]
  },
  {
   "cell_type": "code",
   "execution_count": 5,
   "id": "ad811c8c",
   "metadata": {},
   "outputs": [],
   "source": [
    "A_3x3=np.array([[-18.,  -8., -22.],\n",
    "               [  2.,  -1.,   2.],\n",
    "               [ 14.,   7.,  18.]])"
   ]
  },
  {
   "cell_type": "markdown",
   "id": "8c8af763",
   "metadata": {},
   "source": [
    "Recall that the characteristic equation of a 3x3 matrix is a cubic polynomial. We can write this result in a more compact form using the following notation:\n",
    "\n",
    "$$\n",
    "-\\lambda^3 + \\text{Trace}(\\mathsf{A}) \\lambda^2 - \\text{Minor\\_Sum}(\\mathsf{A}) \\lambda^2 + \\det(A) = 0\n",
    "$$\n",
    "\n",
    "Below we have implemented this as a function, which constructs the equation given a 3x3 matrix and finds roots to reveal the eigenvalues"
   ]
  },
  {
   "cell_type": "code",
   "execution_count": 6,
   "id": "ceb9de5b",
   "metadata": {},
   "outputs": [],
   "source": [
    "def solve_characteristic_3x3(A):\n",
    "    \"\"\"\n",
    "    Computes the characteristic polynomial for a 3x3 matrix, demonstrating how det(A - λI) becomes a cubic polynomial\n",
    "    returns real eigenvalues of characteristic eqn. \n",
    "    \"\"\"\n",
    "    if A.shape[0] != 3:\n",
    "        print(\"This function only works for 3x3 matrices\")\n",
    "        return None\n",
    "    \n",
    "    # The determinant of (A-lambda I) produces a cubic polynomial: -λ³ + c₂λ² + c₁λ + c₀\n",
    "    # We will solve for the coefficients using the lines below\n",
    "\n",
    "    # coefficient of the square term\n",
    "    trace = np.trace(A)  # Sum of diagonal elements\n",
    "    \n",
    "    # coefficient of the linear term - Sum of 2x2 principal minors\n",
    "    minor_sum = ( A[0, 0]* A[1, 1] -  A[0, 1]* A[1, 0]) + ( A[0, 0]* A[2, 2] -  A[0, 2]* A[2, 0]) + ( A[1, 1]* A[2, 2] -  A[1, 2]* A[2, 1])\n",
    "\n",
    "    # coefficient of the constant term\n",
    "    det_A=np.round(np.linalg.det(A),7) #introduce rounding on det to improve against numeric instabilitiy\n",
    "\n",
    "    # print characteristic polynomail\n",
    "    print(f\"\\nCharacteristic polynomial: -λ³ + {trace}λ² - {minor_sum}λ + {det_A} = 0\")\n",
    "    \n",
    "    # Convert to standard form and find roots\n",
    "    coefficients = [-1, trace, -minor_sum, det_A]  # Coefficients for -λ³ + trace*λ² - minor_sum*λ + det_A\n",
    "    eigenvalues = np.roots(coefficients)\n",
    "    \n",
    "    return eigenvalues"
   ]
  },
  {
   "cell_type": "markdown",
   "id": "ee74802a",
   "metadata": {},
   "source": [
    "Review the code above to ensure that it makes sense with the given formula in the prior cell. Then let's use it to evaluate and find th eigenvalues of $\\mathsf{A}$"
   ]
  },
  {
   "cell_type": "code",
   "execution_count": 7,
   "id": "c7556ae0",
   "metadata": {},
   "outputs": [
    {
     "name": "stdout",
     "output_type": "stream",
     "text": [
      "\n",
      "Characteristic polynomial: -λ³ + -1.0λ² - -14.0λ + 24.0 = 0\n",
      "\n",
      "Eigenvalues: [ 4. -3. -2.]\n"
     ]
    }
   ],
   "source": [
    "#get eigenvalues using our function\n",
    "eigenvals=solve_characteristic_3x3(A_3x3)\n",
    "\n",
    "print(f\"\\nEigenvalues: {eigenvals}\")"
   ]
  },
  {
   "cell_type": "markdown",
   "id": "ecc88bfc",
   "metadata": {},
   "source": [
    "Confirm the results of our formula using `np.linalg.eig`"
   ]
  },
  {
   "cell_type": "code",
   "execution_count": 9,
   "id": "97f009ba",
   "metadata": {},
   "outputs": [
    {
     "name": "stdout",
     "output_type": "stream",
     "text": [
      "\n",
      "Eigenvalues: [ 4. -3. -2.]\n"
     ]
    }
   ],
   "source": [
    "### ADD YOUR CODE BELOW TO COMPLETE THE EXPRESSION\n",
    "eigenvals, _ = np.linalg.eig(A_3x3)\n",
    "\n",
    "print(f\"\\nEigenvalues: {eigenvals}\")"
   ]
  },
  {
   "cell_type": "markdown",
   "id": "edcbc906",
   "metadata": {},
   "source": [
    "### Activity 2: QR Decomposition"
   ]
  },
  {
   "cell_type": "markdown",
   "id": "dbc84bc1",
   "metadata": {},
   "source": [
    "In class we discussed the QR decompositon, which takes a matrix $\\mathsf{A}$ and expresses it as a product $\\mathsf{Q R}$, where $\\mathsf{Q}$ is orthogonal and $\\mathsf{R}$ is upper triangular. Numpy.linag has a built in function for QR decomposition. Let's try using it on our matrix A_3x3 from the previous activity. "
   ]
  },
  {
   "cell_type": "code",
   "execution_count": 10,
   "id": "97c9b3ea",
   "metadata": {},
   "outputs": [
    {
     "name": "stdout",
     "output_type": "stream",
     "text": [
      "Matrix Q:\n",
      "[[-0.78633365  0.12098839  0.60583925]\n",
      " [ 0.08737041 -0.94900269  0.30291963]\n",
      " [ 0.61159284  0.29112832  0.73566195]]\n",
      "\n",
      "Matrix R:\n",
      "[[22.89104628 10.48444868 28.48275225]\n",
      " [ 0.          2.01899378  0.6805597 ]\n",
      " [ 0.          0.          0.51929079]]\n"
     ]
    }
   ],
   "source": [
    "Q, R = np.linalg.qr(A_3x3)\n",
    "\n",
    "print(\"Matrix Q:\")\n",
    "print(Q)\n",
    "\n",
    "print(\"\\nMatrix R:\")\n",
    "print(R)"
   ]
  },
  {
   "cell_type": "markdown",
   "id": "37c708a4",
   "metadata": {},
   "source": [
    "By printing the matricies, we can easily confirm that the matrix $\\mathsf{R}$ is upper triangular. How do we know $\\mathsf{Q}$ is orthognal? Check the relation $\\mathsf{Q^T Q = I}$. "
   ]
  },
  {
   "cell_type": "code",
   "execution_count": 11,
   "id": "fb2d9e64",
   "metadata": {},
   "outputs": [
    {
     "name": "stdout",
     "output_type": "stream",
     "text": [
      "\n",
      "Matrix Q^T Q:\n",
      "[[ 1.00000000e+00 -1.96456366e-18  4.95691977e-17]\n",
      " [-1.96456366e-18  1.00000000e+00  2.62060972e-18]\n",
      " [ 4.95691977e-17  2.62060972e-18  1.00000000e+00]]\n"
     ]
    }
   ],
   "source": [
    "#perform matrix multiplication. Note the use of the '@' sign which is generally prefered for multiplication in higher order matricies\n",
    "QTQ = Q.T @ Q\n",
    "\n",
    "print(\"\\nMatrix Q^T Q:\")\n",
    "print(QTQ)"
   ]
  },
  {
   "cell_type": "markdown",
   "id": "4484a1c8",
   "metadata": {},
   "source": [
    "This confirms the relation. Note the non-diagnoal elements are not zero exactly, but are small enought that they are consistent with zero due to roundoff error. "
   ]
  },
  {
   "cell_type": "markdown",
   "id": "dbe20e53",
   "metadata": {},
   "source": [
    "Last, we can check that the product $\\mathsf{QR}$ is equivalent to $\\mathsf{A}$. Thus confirming the decomposition. "
   ]
  },
  {
   "cell_type": "code",
   "execution_count": 12,
   "id": "9776c852",
   "metadata": {},
   "outputs": [
    {
     "name": "stdout",
     "output_type": "stream",
     "text": [
      "Matrix A:\n",
      "[[-18.  -8. -22.]\n",
      " [  2.  -1.   2.]\n",
      " [ 14.   7.  18.]]\n",
      "\n",
      "Matrix Q * R:\n",
      "[[-18.  -8. -22.]\n",
      " [  2.  -1.   2.]\n",
      " [ 14.   7.  18.]]\n"
     ]
    }
   ],
   "source": [
    "print(\"Matrix A:\")\n",
    "print(A_3x3)\n",
    "\n",
    "print(\"\\nMatrix Q * R:\")\n",
    "print(Q @ R)\n"
   ]
  },
  {
   "cell_type": "markdown",
   "id": "b50638af",
   "metadata": {},
   "source": [
    "To look at this method close, let's write our own function that does QR decomposition"
   ]
  },
  {
   "cell_type": "code",
   "execution_count": 15,
   "id": "c750aef5",
   "metadata": {},
   "outputs": [],
   "source": [
    "def qr_dec(A):\n",
    "    n = A.shape[0]\n",
    "    A_working = np.copy(A)  # Working copy that we'll modify\n",
    "    Q = np.zeros((n, n))\n",
    "    R = np.zeros((n, n))\n",
    "    \n",
    "    for j in range(n):\n",
    "        # Orthogonalize current column against all previous Q columns\n",
    "        for i in range(j):\n",
    "            # Calculate projection coefficient: how much of A[:,j] is in direction Q[:,i]\n",
    "            R[i, j] = np.sum(Q[:, i] * A[:, j])\n",
    "            \n",
    "            # Remove the component of A[:,j] in direction Q[:,i]\n",
    "            A_working[:, j] -= R[i, j] * Q[:, i]\n",
    "        \n",
    "        # Calculate the length of the remaining vector\n",
    "        R[j, j] = np.sqrt(np.sum(A_working[:, j] * A_working[:, j]))\n",
    "        \n",
    "        # Normalize to get the unit vector for Q[:,j]\n",
    "        Q[:, j] = A_working[:, j] / R[j, j]\n",
    "    \n",
    "    return Q, R"
   ]
  },
  {
   "cell_type": "markdown",
   "id": "2142c2b8",
   "metadata": {},
   "source": [
    "Let's use this on our matrix A_3x3 and verify the earlier result from `np.linalg.qr()`"
   ]
  },
  {
   "cell_type": "code",
   "execution_count": 16,
   "id": "355eb7ba",
   "metadata": {},
   "outputs": [
    {
     "name": "stdout",
     "output_type": "stream",
     "text": [
      "Matrix Q:\n",
      "[[-0.78633365  0.12098839  0.60583925]\n",
      " [ 0.08737041 -0.94900269  0.30291963]\n",
      " [ 0.61159284  0.29112832  0.73566195]]\n",
      "\n",
      "Matrix R:\n",
      "[[22.89104628 10.48444868 28.48275225]\n",
      " [ 0.          2.01899378  0.6805597 ]\n",
      " [ 0.          0.          0.51929079]]\n"
     ]
    }
   ],
   "source": [
    "#find the results of our function\n",
    "myQ, myR = qr_dec(A_3x3)\n",
    "\n",
    "print(\"Matrix Q:\")\n",
    "print(myQ)\n",
    "\n",
    "print(\"\\nMatrix R:\")\n",
    "print(myR)"
   ]
  },
  {
   "cell_type": "markdown",
   "id": "14fb3faf",
   "metadata": {},
   "source": [
    "Note these agree with our earlier results!"
   ]
  },
  {
   "cell_type": "markdown",
   "id": "3504d67f",
   "metadata": {},
   "source": [
    "Let's try this again now. Define your own matrix called 'B_3x3'. Use the function `qr_dec()` to find $\\mathsf{Q}$ and $\\mathsf{R}$."
   ]
  },
  {
   "cell_type": "code",
   "execution_count": 21,
   "id": "8c44d5e0",
   "metadata": {},
   "outputs": [],
   "source": [
    "B_3x3=np.array([[10. ,3. ,1. ],\n",
    "                [5. ,3. ,7. ],\n",
    "                [1. ,-4. ,10. ]])"
   ]
  },
  {
   "cell_type": "code",
   "execution_count": 22,
   "id": "ddda4a15",
   "metadata": {},
   "outputs": [
    {
     "name": "stdout",
     "output_type": "stream",
     "text": [
      "Matrix Q from B:\n",
      "[[ 0.89087081 -0.0558763  -0.4508071 ]\n",
      " [ 0.4454354   0.30208123  0.84281328]\n",
      " [ 0.08908708 -0.95164319  0.29400463]]\n",
      "\n",
      "Matrix R from B:\n",
      "[[11.22497216  3.65257031  4.89978944]\n",
      " [ 0.          4.54518758 -7.45773959]\n",
      " [ 0.          0.          8.38893221]]\n"
     ]
    }
   ],
   "source": [
    "#find the results of our function\n",
    "QB, RB = qr_dec(B_3x3)\n",
    "\n",
    "print(\"Matrix Q from B:\")\n",
    "print(QB)\n",
    "\n",
    "print(\"\\nMatrix R from B:\")\n",
    "print(RB)"
   ]
  },
  {
   "cell_type": "markdown",
   "id": "9a8f67a6",
   "metadata": {},
   "source": [
    "Verify that $\\mathsf{B}$ is upper triangular in form. If not, you might want to adjust values and re-run until it is before proceeding beyond this point. \n",
    "\n",
    "Next, verify that Q is orthogonal via the relation $\\mathsf{Q^T Q = I}$."
   ]
  },
  {
   "cell_type": "code",
   "execution_count": 24,
   "id": "05ecefd5",
   "metadata": {},
   "outputs": [
    {
     "name": "stdout",
     "output_type": "stream",
     "text": [
      "[[1.00000000e+00 1.11116788e-16 1.77444450e-16]\n",
      " [1.11116788e-16 1.00000000e+00 1.78920137e-16]\n",
      " [1.77444450e-16 1.78920137e-16 1.00000000e+00]]\n"
     ]
    }
   ],
   "source": [
    "### ADD YOUR CODE BELOW ###\n",
    "print(QB.T @ QB)"
   ]
  },
  {
   "cell_type": "markdown",
   "id": "998b135f",
   "metadata": {},
   "source": [
    "And finally verify the relation that our matrix $\\mathsf{B}$ can be represented as the product of $\\mathsf{Q}$ and $\\mathsf{R}$"
   ]
  },
  {
   "cell_type": "code",
   "execution_count": 26,
   "id": "641b7688",
   "metadata": {},
   "outputs": [
    {
     "name": "stdout",
     "output_type": "stream",
     "text": [
      "[[10.  3.  1.]\n",
      " [ 5.  3.  7.]\n",
      " [ 1. -4. 10.]]\n"
     ]
    }
   ],
   "source": [
    "### ADD YOUR CODE BELOW ###\n",
    "print(QB @ RB)"
   ]
  },
  {
   "cell_type": "markdown",
   "id": "b83f619b",
   "metadata": {},
   "source": [
    "### Activity 3: Iterative Methods using the QR Algorithm"
   ]
  },
  {
   "cell_type": "markdown",
   "id": "770f8b31",
   "metadata": {},
   "source": [
    "In class, we discussed the QR algorithm as a method of finding eigenvalues. Below we have coded a function that perfoms this proceedure. Examine the code and verify that it makes sense. "
   ]
  },
  {
   "cell_type": "code",
   "execution_count": 27,
   "id": "0f4f9a99",
   "metadata": {},
   "outputs": [],
   "source": [
    "def qr_eigen(input_matrix, max_iterations=200):    \n",
    "    A = np.copy(input_matrix)  # Working copy that we'll transform\n",
    "    \n",
    "    for iteration in range(1, max_iterations):\n",
    "        # Decompose current matrix into Q * R\n",
    "        Q, R = qr_dec(A)\n",
    "        \n",
    "        # Update A by multiplying R * Q \n",
    "        A = R @ Q\n",
    "    \n",
    "    # Extract eigenvalues from the diagonal of the final matrix\n",
    "    eigenvalues = np.diag(A)\n",
    "    \n",
    "    return eigenvalues"
   ]
  },
  {
   "cell_type": "markdown",
   "id": "1a2f80d5",
   "metadata": {},
   "source": [
    "let's test this out on the A_3x3 matrix that we used in an earlier activity. Verify that we get the same results as earlier"
   ]
  },
  {
   "cell_type": "code",
   "execution_count": 28,
   "id": "ab412825",
   "metadata": {},
   "outputs": [
    {
     "name": "stdout",
     "output_type": "stream",
     "text": [
      "\n",
      "Eigenvalues: [ 4. -3. -2.]\n"
     ]
    }
   ],
   "source": [
    "eigenvals = qr_eigen(A_3x3)\n",
    "\n",
    "print(f\"\\nEigenvalues: {eigenvals}\")"
   ]
  },
  {
   "cell_type": "markdown",
   "id": "6c7c1de0",
   "metadata": {},
   "source": [
    "Note that this method works very well for large matricies. For 3x3 it'a s bit of overkill, but illistrates the point. Let's try on a larger matrix next!"
   ]
  },
  {
   "cell_type": "code",
   "execution_count": 29,
   "id": "faf38091",
   "metadata": {},
   "outputs": [],
   "source": [
    "A_5x5 = np.array([[-7.,  5.5,  -6.5, -1.5,  0.5],\n",
    "                 [ 5.5,   8.,  -8.5,   5.,  -3.],\n",
    "                 [-6.5,  -8.5, -6.,    7.,  -6.5],\n",
    "                 [-1.5,   5.,   7.,    7.,  -0.5],\n",
    "                 [ 0.5,  -3.,  -6.5,  -0.5, -4.]])\n"
   ]
  },
  {
   "cell_type": "markdown",
   "id": "bbcbe1c8",
   "metadata": {},
   "source": [
    "Let's run our function on the matrix above"
   ]
  },
  {
   "cell_type": "code",
   "execution_count": 30,
   "id": "adeea42e",
   "metadata": {},
   "outputs": [
    {
     "name": "stdout",
     "output_type": "stream",
     "text": [
      "\n",
      "Eigenvalues: [-17.43264996  14.88830145  11.70895466  -9.73665987  -1.42794628]\n"
     ]
    }
   ],
   "source": [
    "eigenvals = qr_eigen(A_5x5)\n",
    "\n",
    "print(f\"\\nEigenvalues: {eigenvals}\")"
   ]
  },
  {
   "cell_type": "markdown",
   "id": "d49e40e4",
   "metadata": {},
   "source": [
    "Verify the results with `np.linalg.eig`"
   ]
  },
  {
   "cell_type": "code",
   "execution_count": 31,
   "id": "f12bbf1f",
   "metadata": {},
   "outputs": [
    {
     "name": "stdout",
     "output_type": "stream",
     "text": [
      "\n",
      "Eigenvalues: [-17.43264996  -9.73665987  14.88830145  11.70895466  -1.42794628]\n"
     ]
    }
   ],
   "source": [
    "eigenvals, _ = np.linalg.eig(A_5x5)\n",
    "\n",
    "print(f\"\\nEigenvalues: {eigenvals}\")"
   ]
  },
  {
   "cell_type": "markdown",
   "id": "be719b97",
   "metadata": {},
   "source": [
    "verify the results are the same, but they may be listed in a different order (and that's ok!)"
   ]
  },
  {
   "cell_type": "markdown",
   "id": "ca2902d9",
   "metadata": {},
   "source": [
    "Let's try an even more complex example now. Below I have defined a function that will produce a randomly generated symetric full rank matrix. Such a matrix is guaranteed to have real eigenvalues and was used to produce A_5x5 in the previous example.  "
   ]
  },
  {
   "cell_type": "code",
   "execution_count": 32,
   "id": "3e9b1d52",
   "metadata": {},
   "outputs": [],
   "source": [
    "def generate_symmetric_full_rank_matrix(size=5):\n",
    "    while True:\n",
    "        # Generate a random matrix\n",
    "        matrix = np.random.randint(-20, 20, size=(size, size))\n",
    "        # Make it symmetric by averaging it with its transpose\n",
    "        symmetric_matrix = (matrix + matrix.T) / 2\n",
    "        # Check if the determinant is non-zero (i.e., matrix has full rank)\n",
    "        if np.linalg.det(symmetric_matrix) != 0:\n",
    "            return symmetric_matrix"
   ]
  },
  {
   "cell_type": "markdown",
   "id": "2e658f49",
   "metadata": {},
   "source": [
    "Use the above function to create a large matrix (e.g, $25 \\times 25$) or larger"
   ]
  },
  {
   "cell_type": "code",
   "execution_count": 33,
   "id": "948d41f6",
   "metadata": {},
   "outputs": [
    {
     "name": "stdout",
     "output_type": "stream",
     "text": [
      "[[  3.   -3.   13.5  -9.5  -6.  -12.5  -4.    6.5 -13.5  -2.   -3.   12.\n",
      "   -6.5   1.5  -8.    5.5  -2.    2.5   1.   -5.  -11.5   4.    2.    4.5\n",
      "    0.5]\n",
      " [ -3.   -5.    0.    4.5 -10.5  10.    8.    2.5   3.    0.    2.5  -4.5\n",
      "   -6.    6.   -2.5  12.5   7.5 -16.  -13.5  -2.   -2.5  -3.5  -7.5  -3.\n",
      "   -5.5]\n",
      " [ 13.5   0.    1.   -5.   13.5   0.   -6.5   8.5  -8.5   2.   -4.    5.\n",
      "  -10.5  -1.5   3.5  -7.    2.5  -5.5 -11.5  -2.   -5.   -6.5   7.    4.\n",
      "   -1.5]\n",
      " [ -9.5   4.5  -5.   11.    9.   10.   -5.5  -5.5   4.5  -4.5   2.5   2.5\n",
      "   12.    8.   16.5  -2.5  -3.   -7.5   1.    2.    2.   -7.  -13.   -2.\n",
      "    0.5]\n",
      " [ -6.  -10.5  13.5   9.  -19.    5.    8.    3.5  -2.    1.    2.   -8.\n",
      "   -1.   -6.5   2.   -1.5  -3.    5.5  -3.   12.    4.5   0.  -15.5  -6.5\n",
      "   -5. ]\n",
      " [-12.5  10.    0.   10.    5.    4.   -5.5   1.5   4.  -12.5   8.5   2.5\n",
      "    0.5  -7.  -11.   -1.5   9.   -2.    2.5   2.    7.5   1.5  -2.5   2.\n",
      "   -5. ]\n",
      " [ -4.    8.   -6.5  -5.5   8.   -5.5 -14.   -2.5   7.5  -7.5  11.5   7.5\n",
      "    5.   -6.5  15.   -5.5  -4.5   1.5   5.    5.5   2.5  -9.5   5.5  -1.5\n",
      "   -1.5]\n",
      " [  6.5   2.5   8.5  -5.5   3.5   1.5  -2.5  -1.  -11.5  -1.   -6.    8.5\n",
      "  -13.    4.    4.5   0.   14.    7.5 -12.5  13.   -1.  -13.5  13.   -4.\n",
      "   -0.5]\n",
      " [-13.5   3.   -8.5   4.5  -2.    4.    7.5 -11.5  13.   -3.   -2.5  -8.5\n",
      "    2.5   7.    2.   12.5   0.5 -12.5   6.5   9.  -12.   -4.   -9.5   7.\n",
      "  -15.5]\n",
      " [ -2.    0.    2.   -4.5   1.  -12.5  -7.5  -1.   -3.   -5.  -13.5  -3.5\n",
      "    5.5   1.5 -11.5  12.  -12.   -5.5  13.   -5.5   4.5 -16.5  -4.    1.5\n",
      "    5. ]\n",
      " [ -3.    2.5  -4.    2.5   2.    8.5  11.5  -6.   -2.5 -13.5 -13.    5.5\n",
      "   -4.    7.   -9.    4.    1.5   1.5  -5.    1.   -4.5   8.   -7.    3.\n",
      "    3.5]\n",
      " [ 12.   -4.5   5.    2.5  -8.    2.5   7.5   8.5  -8.5  -3.5   5.5  -3.\n",
      "   -8.    0.5   9.5  -1.5  -8.   10.    3.5   1.5   3.5   4.   14.    2.5\n",
      "   -6.5]\n",
      " [ -6.5  -6.  -10.5  12.   -1.    0.5   5.  -13.    2.5   5.5  -4.   -8.\n",
      "    9.  -16.5  12.5  -5.   -4.   -9.   -1.5  -8.   -1.    5.   -4.  -13.\n",
      "  -18. ]\n",
      " [  1.5   6.   -1.5   8.   -6.5  -7.   -6.5   4.    7.    1.5   7.    0.5\n",
      "  -16.5   4.   -0.5  -5.5   4.    8.5  -6.5  -5.   -4.5   7.  -12.  -20.\n",
      "    4. ]\n",
      " [ -8.   -2.5   3.5  16.5   2.  -11.   15.    4.5   2.  -11.5  -9.    9.5\n",
      "   12.5  -0.5  -4.  -11.   -1.5   1.    2.5  -6.5   1.  -12.5  -9.5  -6.\n",
      "   -4. ]\n",
      " [  5.5  12.5  -7.   -2.5  -1.5  -1.5  -5.5   0.   12.5  12.    4.   -1.5\n",
      "   -5.   -5.5 -11.   10.  -11.5   0.   -0.5 -11.    5.   -2.5  -4.5  -5.\n",
      "   12.5]\n",
      " [ -2.    7.5   2.5  -3.   -3.    9.   -4.5  14.    0.5 -12.    1.5  -8.\n",
      "   -4.    4.   -1.5 -11.5   6.    0.5   6.   -0.5  10.    4.5  -2.5  17.5\n",
      "   -4.5]\n",
      " [  2.5 -16.   -5.5  -7.5   5.5  -2.    1.5   7.5 -12.5  -5.5   1.5  10.\n",
      "   -9.    8.5   1.    0.    0.5  12.    4.5  10.    1.   12.5   3.5 -15.\n",
      "    5. ]\n",
      " [  1.  -13.5 -11.5   1.   -3.    2.5   5.  -12.5   6.5  13.   -5.    3.5\n",
      "   -1.5  -6.5   2.5  -0.5   6.    4.5   0.    0.5 -15.5   4.  -11.5  -4.5\n",
      "    2. ]\n",
      " [ -5.   -2.   -2.    2.   12.    2.    5.5  13.    9.   -5.5   1.    1.5\n",
      "   -8.   -5.   -6.5 -11.   -0.5  10.    0.5  15.   -0.5  -7.   10.5  -2.\n",
      "    6. ]\n",
      " [-11.5  -2.5  -5.    2.    4.5   7.5   2.5  -1.  -12.    4.5  -4.5   3.5\n",
      "   -1.   -4.5   1.    5.   10.    1.  -15.5  -0.5  -4.    0.    3.5 -11.\n",
      "    2. ]\n",
      " [  4.   -3.5  -6.5  -7.    0.    1.5  -9.5 -13.5  -4.  -16.5   8.    4.\n",
      "    5.    7.  -12.5  -2.5   4.5  12.5   4.   -7.    0.  -14.   18.  -13.\n",
      "   -7.5]\n",
      " [  2.   -7.5   7.  -13.  -15.5  -2.5   5.5  13.   -9.5  -4.   -7.   14.\n",
      "   -4.  -12.   -9.5  -4.5  -2.5   3.5 -11.5  10.5   3.5  18.   10.    5.5\n",
      "  -13. ]\n",
      " [  4.5  -3.    4.   -2.   -6.5   2.   -1.5  -4.    7.    1.5   3.    2.5\n",
      "  -13.  -20.   -6.   -5.   17.5 -15.   -4.5  -2.  -11.  -13.    5.5 -17.\n",
      "   -8. ]\n",
      " [  0.5  -5.5  -1.5   0.5  -5.   -5.   -1.5  -0.5 -15.5   5.    3.5  -6.5\n",
      "  -18.    4.   -4.   12.5  -4.5   5.    2.    6.    2.   -7.5 -13.   -8.\n",
      "   -8. ]]\n"
     ]
    }
   ],
   "source": [
    "# Generate the symmetric full rank matrix\n",
    "symmetric_matrix = generate_symmetric_full_rank_matrix(25)\n",
    "print(symmetric_matrix)"
   ]
  },
  {
   "cell_type": "markdown",
   "id": "f099c571",
   "metadata": {},
   "source": [
    "Note the print takes a lot of space! That said, it's worth seeing how large this is and think about how hard it would be to find the eigenvalues! Now, let's use our qr_eigen() function"
   ]
  },
  {
   "cell_type": "code",
   "execution_count": 36,
   "id": "612fc1e7",
   "metadata": {},
   "outputs": [
    {
     "name": "stdout",
     "output_type": "stream",
     "text": [
      "\n",
      "Eigenvalues: [ 79.25153208 -66.24092319 -59.919406    55.44781425 -49.48317391\n",
      "  48.94719739 -40.4296292   40.48892511 -43.0537604   39.38903025\n",
      "  34.42037998 -31.38116488  30.2900256  -26.88319539  23.83378521\n",
      " -22.21323564 -19.65693051 -15.82542365  15.26634149 -13.07828227\n",
      "  11.48177508   6.96247504  -6.7946917    2.54010107  -2.35956582]\n"
     ]
    }
   ],
   "source": [
    "eigenvalues_QR = qr_eigen(symmetric_matrix)\n",
    "\n",
    "print(f\"\\nEigenvalues: {eigenvalues_QR}\")"
   ]
  },
  {
   "cell_type": "markdown",
   "id": "6956c5d5",
   "metadata": {},
   "source": [
    "Note there should be as many distinct eigenvalues as $N$ of the matrix. Now let's check our work with `np.linalg.eig()`"
   ]
  },
  {
   "cell_type": "code",
   "execution_count": 38,
   "id": "b8682e67",
   "metadata": {},
   "outputs": [
    {
     "name": "stdout",
     "output_type": "stream",
     "text": [
      "\n",
      "Eigenvalues: [ 79.25153208 -66.24092319 -59.919406    55.44781425  48.98138145\n",
      "  46.70984242  39.38903025  34.42037998  30.29006299 -49.5173571\n",
      " -46.65054738 -43.0537604   23.83378521 -31.38120227  15.2664393\n",
      "  11.48177508   6.96371199   2.54010107  -2.35956582  -6.79592865\n",
      " -26.88319539 -13.07828227 -15.82552147 -22.21323564 -19.65693051]\n"
     ]
    }
   ],
   "source": [
    "eigenvalues_eig, _ = np.linalg.eig(symmetric_matrix)\n",
    "\n",
    "print(f\"\\nEigenvalues: {eigenvalues_eig}\")"
   ]
  },
  {
   "cell_type": "markdown",
   "id": "967f7bc9",
   "metadata": {},
   "source": [
    "Note these lists may be difficult to compare if they are not in the same order. We can sort the arrays to make the comparison easier."
   ]
  },
  {
   "cell_type": "code",
   "execution_count": 39,
   "id": "5bd451e1",
   "metadata": {},
   "outputs": [
    {
     "name": "stdout",
     "output_type": "stream",
     "text": [
      "\n",
      "Eigenvalues from np.linalg.eig: [-66.24092319 -59.919406   -49.5173571  -46.65054738 -43.0537604\n",
      " -31.38120227 -26.88319539 -22.21323564 -19.65693051 -15.82552147\n",
      " -13.07828227  -6.79592865  -2.35956582   2.54010107   6.96371199\n",
      "  11.48177508  15.2664393   23.83378521  30.29006299  34.42037998\n",
      "  39.38903025  46.70984242  48.98138145  55.44781425  79.25153208]\n",
      "\n",
      "Eigenvalues from iterative QR: [-66.24092319 -59.919406   -49.48317391 -43.0537604  -40.4296292\n",
      " -31.38116488 -26.88319539 -22.21323564 -19.65693051 -15.82542365\n",
      " -13.07828227  -6.7946917   -2.35956582   2.54010107   6.96247504\n",
      "  11.48177508  15.26634149  23.83378521  30.2900256   34.42037998\n",
      "  39.38903025  40.48892511  48.94719739  55.44781425  79.25153208]\n"
     ]
    }
   ],
   "source": [
    "print(f\"\\nEigenvalues from np.linalg.eig: {np.sort(eigenvalues_eig)}\")\n",
    "\n",
    "np.sort(eigenvalues_eig)\n",
    "\n",
    "\n",
    "print(f\"\\nEigenvalues from iterative QR: {np.sort(eigenvalues_QR)}\")"
   ]
  },
  {
   "cell_type": "markdown",
   "id": "ef3a7d41",
   "metadata": {},
   "source": [
    "Note there might be slight diffrences due to rounding. But we can re-run our QR version with larger number of iterations which will converge to the np.linalg result!"
   ]
  },
  {
   "cell_type": "markdown",
   "id": "0f0777b4",
   "metadata": {},
   "source": [
    "### Activity 4: Application to Coupled Mass Spring System"
   ]
  },
  {
   "cell_type": "code",
   "execution_count": 40,
   "id": "9ae9eb46",
   "metadata": {},
   "outputs": [],
   "source": [
    "def coupled_oscillator_system(m1, m2, k1, k2, k12):\n",
    "    \"\"\"\n",
    "    Analyze normal modes of two coupled oscillators\n",
    "    \n",
    "    Parameters:\n",
    "    m1, m2: masses\n",
    "    k1, k2: spring constants for individual springs\n",
    "    k12: coupling spring constant\n",
    "    \n",
    "    Returns eigenfrequencies and mode shapes\n",
    "    \"\"\"\n",
    "    \n",
    "    # Mass matrix\n",
    "    M = np.array([[m1, 0],\n",
    "                  [0, m2]])\n",
    "    \n",
    "    # Stiffness matrix\n",
    "    K = np.array([[k1 + k12, -k12],\n",
    "                  [-k12, k2 + k12]])\n",
    "    \n",
    "    # Solve generalized eigenvalue problem: K*v = ω²*M*v\n",
    "    # This becomes: M^(-1)*K*v = ω²*v\n",
    "    M_inv = np.linalg.inv(M)\n",
    "    A = M_inv @ K\n",
    "    \n",
    "    eigenvals, eigenvecs = np.linalg.eig(A)\n",
    "    \n",
    "    # Angular frequencies\n",
    "    omega = np.sqrt(eigenvals)\n",
    "    \n",
    "    # Sort by frequency\n",
    "    idx = np.argsort(omega)\n",
    "    omega = omega[idx]\n",
    "    eigenvecs = eigenvecs[:, idx]\n",
    "    \n",
    "    return omega, eigenvecs"
   ]
  },
  {
   "cell_type": "markdown",
   "id": "5fc84b85",
   "metadata": {},
   "source": [
    "System parameters"
   ]
  },
  {
   "cell_type": "code",
   "execution_count": 41,
   "id": "b4d0443c",
   "metadata": {},
   "outputs": [],
   "source": [
    "m1, m2 = 1.0, 1.0  # Equal masses\n",
    "k1, k2 = 4.0, 4.0  # Equal spring constants\n",
    "k12 = 1.0           # Weak coupling"
   ]
  },
  {
   "cell_type": "markdown",
   "id": "f9cc1bf7",
   "metadata": {},
   "source": [
    "Solve motion of the system"
   ]
  },
  {
   "cell_type": "code",
   "execution_count": 42,
   "id": "8415f519",
   "metadata": {},
   "outputs": [],
   "source": [
    "omega, modes = coupled_oscillator_system(m1, m2, k1, k2, k12)"
   ]
  },
  {
   "cell_type": "code",
   "execution_count": 43,
   "id": "1ff9f2fd",
   "metadata": {},
   "outputs": [
    {
     "name": "stdout",
     "output_type": "stream",
     "text": [
      "Coupled Oscillator System:\n",
      "m1 = 1.0 kg, m2 = 1.0 kg\n",
      "k1 = 4.0 N/m, k2 = 4.0 N/m, k12 = 1.0 N/m\n",
      "\n",
      "Normal Mode Analysis:\n",
      "Mode 1:\n",
      "  Frequency: ω = 2.000 rad/s\n",
      "  Period: T = 3.142 s\n",
      "  Mode shape: [0.707, 0.707]\n",
      "  Normalized: [1.000, 1.000]\n",
      "  → In-phase motion (symmetric mode)\n",
      "\n",
      "Mode 2:\n",
      "  Frequency: ω = 2.449 rad/s\n",
      "  Period: T = 2.565 s\n",
      "  Mode shape: [0.707, -0.707]\n",
      "  Normalized: [1.000, -1.000]\n",
      "  → Out-of-phase motion (antisymmetric mode)\n",
      "\n"
     ]
    }
   ],
   "source": [
    "print(\"Coupled Oscillator System:\")\n",
    "print(f\"m1 = {m1} kg, m2 = {m2} kg\")\n",
    "print(f\"k1 = {k1} N/m, k2 = {k2} N/m, k12 = {k12} N/m\")\n",
    "print()\n",
    "\n",
    "print(\"Normal Mode Analysis:\")\n",
    "for i, (freq, mode) in enumerate(zip(omega, modes.T)):\n",
    "    print(f\"Mode {i+1}:\")\n",
    "    print(f\"  Frequency: ω = {freq:.3f} rad/s\")\n",
    "    print(f\"  Period: T = {2*np.pi/freq:.3f} s\")\n",
    "    print(f\"  Mode shape: [{mode[0]:.3f}, {mode[1]:.3f}]\")\n",
    "    \n",
    "    # Normalize so that the amplitude is easier to interpret\n",
    "    normalized_mode = mode / np.max(np.abs(mode))\n",
    "    print(f\"  Normalized: [{normalized_mode[0]:.3f}, {normalized_mode[1]:.3f}]\")\n",
    "    \n",
    "    if i == 0:\n",
    "        print(\"  → In-phase motion (symmetric mode)\")\n",
    "    else:\n",
    "        print(\"  → Out-of-phase motion (antisymmetric mode)\")\n",
    "    print()"
   ]
  },
  {
   "cell_type": "code",
   "execution_count": 44,
   "id": "b99a7de4",
   "metadata": {},
   "outputs": [
    {
     "data": {
      "image/png": "[encoded data removed]",
      "text/plain": [
       "<Figure size 1200x800 with 4 Axes>"
      ]
     },
     "metadata": {},
     "output_type": "display_data"
    },
    {
     "name": "stdout",
     "output_type": "stream",
     "text": [
      "Mode 1: Both masses move in-phase (symmetric mode)\n",
      "Mode 2: Masses move out-of-phase (antisymmetric mode)\n",
      "Notice how Mode 2 has higher frequency due to the coupling spring being active\n"
     ]
    }
   ],
   "source": [
    "# Create visualization of the normal modes\n",
    "fig, axes = plt.subplots(2, 2, figsize=(12, 8))\n",
    "fig.suptitle('Coupled Mass-Spring System: Normal Mode Analysis', fontsize=14)\n",
    "\n",
    "# Parameters for visualization\n",
    "x_positions = np.array([0, 1])  # Equilibrium positions of masses\n",
    "t = np.linspace(0, 4*np.pi/omega[0], 1000)  # Time array\n",
    "\n",
    "# Plot 1: System schematic\n",
    "ax = axes[0, 0]\n",
    "ax.plot([-0.5, 0, 1, 1.5], [0, 0, 0, 0], 'k-', linewidth=2)\n",
    "ax.plot([0, 1], [0, 0], 'ro', markersize=15, label='Masses')\n",
    "ax.plot([0, 1], [-0.1, -0.1], 'ks', markersize=8)\n",
    "ax.text(0, -0.3, f'm₁={m1}', ha='center', fontsize=10)\n",
    "ax.text(1, -0.3, f'm₂={m2}', ha='center', fontsize=10)\n",
    "ax.text(0.5, 0.2, f'k₁₂={k12}', ha='center', fontsize=10)\n",
    "ax.text(-0.25, 0.1, f'k₁={k1}', ha='center', fontsize=10)\n",
    "ax.text(1.25, 0.1, f'k₂={k2}', ha='center', fontsize=10)\n",
    "ax.set_xlim(-0.6, 1.6)\n",
    "ax.set_ylim(-0.5, 0.4)\n",
    "ax.set_title('System Configuration')\n",
    "ax.set_aspect('equal')\n",
    "ax.grid(True, alpha=0.3)\n",
    "\n",
    "\n",
    "# Plot 2: Mode shapes\n",
    "ax = axes[0, 1]\n",
    "for i, (freq, mode) in enumerate(zip(omega, modes.T)):\n",
    "    normalized_mode = mode / np.max(np.abs(mode))\n",
    "    ax.plot(x_positions, normalized_mode, 'o-', linewidth=2, markersize=8,\n",
    "            label=f'Mode {i+1}: ω={freq:.2f} rad/s')\n",
    "    # Add arrows to show direction\n",
    "    for j, (x, y) in enumerate(zip(x_positions, normalized_mode)):\n",
    "        if abs(y) > 0.1:  # Only draw significant arrows\n",
    "            ax.arrow(x, 0, 0, y*0.8, head_width=0.05, head_length=0.1, \n",
    "                    fc=f'C{i}', ec=f'C{i}', alpha=0.7)\n",
    "\n",
    "ax.axhline(y=0, color='k', linestyle='--', alpha=0.5)\n",
    "ax.set_xlabel('Mass Position')\n",
    "ax.set_ylabel('Normalized Amplitude')\n",
    "ax.set_title('Normal Mode Shapes')\n",
    "ax.legend()\n",
    "ax.grid(True, alpha=0.3)\n",
    "\n",
    "# Plot 3: Time evolution of Mode 1 (easierin-phase)\n",
    "ax = axes[1, 0]\n",
    "mode1_normalized = modes[:, 0] / np.max(np.abs(modes[:, 0]))\n",
    "A1 = 1.0  # Amplitude\n",
    "x1_t = A1 * mode1_normalized[0] * np.cos(omega[0] * t)\n",
    "x2_t = A1 * mode1_normalized[1] * np.cos(omega[0] * t)\n",
    "\n",
    "ax.plot(t, x1_t, 'b-', label='Mass 1', linewidth=2)\n",
    "ax.plot(t, x2_t, 'r-', label='Mass 2', linewidth=2)\n",
    "ax.set_xlabel('Time (s)')\n",
    "ax.set_ylabel('Displacement')\n",
    "ax.set_title(f'Mode 1 Time Evolution (ω₁={omega[0]:.2f} rad/s)')\n",
    "ax.legend()\n",
    "ax.grid(True, alpha=0.3)\n",
    "\n",
    "# Plot 4: Time evolution of Mode 2 (out-of-phase)\n",
    "ax = axes[1, 1]\n",
    "mode2_normalized = modes[:, 1] / np.max(np.abs(modes[:, 1]))\n",
    "A2 = 1.0  # Amplitude\n",
    "x1_t = A2 * mode2_normalized[0] * np.cos(omega[1] * t)\n",
    "x2_t = A2 * mode2_normalized[1] * np.cos(omega[1] * t)\n",
    "\n",
    "ax.plot(t, x1_t, 'b-', label='Mass 1', linewidth=2)\n",
    "ax.plot(t, x2_t, 'r-', label='Mass 2', linewidth=2)\n",
    "ax.set_xlabel('Time (s)')\n",
    "ax.set_ylabel('Displacement')\n",
    "ax.set_title(f'Mode 2 Time Evolution (ω₂={omega[1]:.2f} rad/s)')\n",
    "ax.legend()\n",
    "ax.grid(True, alpha=0.3)\n",
    "\n",
    "plt.tight_layout()\n",
    "plt.show()\n",
    "\n",
    "print(\"Mode 1: Both masses move in-phase (symmetric mode)\")\n",
    "print(\"Mode 2: Masses move out-of-phase (antisymmetric mode)\")\n",
    "print(\"Notice how Mode 2 has higher frequency due to the coupling spring being active\")"
   ]
  },
  {
   "cell_type": "markdown",
   "id": "1bc61b46",
   "metadata": {},
   "source": [
    "Try running this again with parameters of your choice!"
   ]
  }
 ],
 "metadata": {
  "kernelspec": {
   "display_name": "CompPhys2025",
   "language": "python",
   "name": "python3"
  },
  "language_info": {
   "codemirror_mode": {
    "name": "ipython",
    "version": 3
   },
   "file_extension": ".py",
   "mimetype": "text/x-python",
   "name": "python",
   "nbconvert_exporter": "python",
   "pygments_lexer": "ipython3",
   "version": "3.10.18"
  }
 },
 "nbformat": 4,
 "nbformat_minor": 5
}
