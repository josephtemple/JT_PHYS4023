{
 "cells": [
  {
   "cell_type": "code",
   "execution_count": 284,
   "id": "63f2db8c",
   "metadata": {},
   "outputs": [],
   "source": [
    "using Pkg\n",
    "using LinearAlgebra"
   ]
  },
  {
   "cell_type": "markdown",
   "id": "b910f129",
   "metadata": {},
   "source": [
    "# Problem 1"
   ]
  },
  {
   "cell_type": "code",
   "execution_count": 285,
   "id": "185e4a67",
   "metadata": {},
   "outputs": [],
   "source": [
    "A = [1 2; 3 -1]\n",
    "B = [3 -2; 2 1]\n",
    "C = [1; 2; 3]\n",
    "D = [1 3 1; -2 1 -1]\n",
    "E = [3 1; 0 3; -2 2]\n",
    "F = [2 1 2; -1 3 -2]\n",
    "\n",
    "; # don't print F to console"
   ]
  },
  {
   "cell_type": "markdown",
   "id": "c476bd9f",
   "metadata": {},
   "source": [
    "### 1a)"
   ]
  },
  {
   "cell_type": "code",
   "execution_count": 286,
   "id": "517beffd",
   "metadata": {},
   "outputs": [
    {
     "name": "stdout",
     "output_type": "stream",
     "text": [
      "Product AB: "
     ]
    },
    {
     "data": {
      "text/plain": [
       "2×2 Matrix{Int64}:\n",
       " 7   0\n",
       " 7  -7"
      ]
     },
     "execution_count": 286,
     "metadata": {},
     "output_type": "execute_result"
    }
   ],
   "source": [
    "print(\"Product AB: \")\n",
    "A*B"
   ]
  },
  {
   "cell_type": "code",
   "execution_count": 287,
   "id": "83cf1e57",
   "metadata": {},
   "outputs": [
    {
     "name": "stdout",
     "output_type": "stream",
     "text": [
      "Product CD: "
     ]
    },
    {
     "ename": "LoadError",
     "evalue": "DimensionMismatch: matrix A has axes (Base.OneTo(3),Base.OneTo(1)), matrix B has axes (Base.OneTo(2),Base.OneTo(3))",
     "output_type": "error",
     "traceback": [
      "DimensionMismatch: matrix A has axes (Base.OneTo(3),Base.OneTo(1)), matrix B has axes (Base.OneTo(2),Base.OneTo(3))",
      "",
      "Stacktrace:",
      " [1] \u001b[0m\u001b[1m_generic_matmatmul!\u001b[22m\u001b[0m\u001b[1m(\u001b[22m\u001b[90mC\u001b[39m::\u001b[0mMatrix\u001b[90m{Int64}\u001b[39m, \u001b[90mA\u001b[39m::\u001b[0mMatrix\u001b[90m{Int64}\u001b[39m, \u001b[90mB\u001b[39m::\u001b[0mMatrix\u001b[90m{Int64}\u001b[39m, \u001b[90m_add\u001b[39m::\u001b[0mLinearAlgebra.MulAddMul\u001b[90m{true, true, Bool, Bool}\u001b[39m\u001b[0m\u001b[1m)\u001b[22m",
      "\u001b[90m   @\u001b[39m \u001b[35mLinearAlgebra\u001b[39m \u001b[90mC:\\Users\\Joseph\\.julia\\juliaup\\julia-1.11.5+0.x64.w64.mingw32\\share\\julia\\stdlib\\v1.11\\LinearAlgebra\\src\\\u001b[39m\u001b[90m\u001b[4mmatmul.jl:883\u001b[24m\u001b[39m",
      " [2] \u001b[0m\u001b[1mgeneric_matmatmul!\u001b[22m",
      "\u001b[90m   @\u001b[39m \u001b[90mC:\\Users\\Joseph\\.julia\\juliaup\\julia-1.11.5+0.x64.w64.mingw32\\share\\julia\\stdlib\\v1.11\\LinearAlgebra\\src\\\u001b[39m\u001b[90m\u001b[4mmatmul.jl:868\u001b[24m\u001b[39m\u001b[90m [inlined]\u001b[39m",
      " [3] \u001b[0m\u001b[1m_mul!\u001b[22m",
      "\u001b[90m   @\u001b[39m \u001b[90mC:\\Users\\Joseph\\.julia\\juliaup\\julia-1.11.5+0.x64.w64.mingw32\\share\\julia\\stdlib\\v1.11\\LinearAlgebra\\src\\\u001b[39m\u001b[90m\u001b[4mmatmul.jl:287\u001b[24m\u001b[39m\u001b[90m [inlined]\u001b[39m",
      " [4] \u001b[0m\u001b[1mmul!\u001b[22m",
      "\u001b[90m   @\u001b[39m \u001b[90mC:\\Users\\Joseph\\.julia\\juliaup\\julia-1.11.5+0.x64.w64.mingw32\\share\\julia\\stdlib\\v1.11\\LinearAlgebra\\src\\\u001b[39m\u001b[90m\u001b[4mmatmul.jl:285\u001b[24m\u001b[39m\u001b[90m [inlined]\u001b[39m",
      " [5] \u001b[0m\u001b[1mmul!\u001b[22m",
      "\u001b[90m   @\u001b[39m \u001b[90mC:\\Users\\Joseph\\.julia\\juliaup\\julia-1.11.5+0.x64.w64.mingw32\\share\\julia\\stdlib\\v1.11\\LinearAlgebra\\src\\\u001b[39m\u001b[90m\u001b[4mmatmul.jl:253\u001b[24m\u001b[39m\u001b[90m [inlined]\u001b[39m",
      " [6] \u001b[0m\u001b[1m*\u001b[22m",
      "\u001b[90m   @\u001b[39m \u001b[90mC:\\Users\\Joseph\\.julia\\juliaup\\julia-1.11.5+0.x64.w64.mingw32\\share\\julia\\stdlib\\v1.11\\LinearAlgebra\\src\\\u001b[39m\u001b[90m\u001b[4mmatmul.jl:114\u001b[24m\u001b[39m\u001b[90m [inlined]\u001b[39m",
      " [7] \u001b[0m\u001b[1m*\u001b[22m\u001b[0m\u001b[1m(\u001b[22m\u001b[90ma\u001b[39m::\u001b[0mVector\u001b[90m{Int64}\u001b[39m, \u001b[90mB\u001b[39m::\u001b[0mMatrix\u001b[90m{Int64}\u001b[39m\u001b[0m\u001b[1m)\u001b[22m",
      "\u001b[90m   @\u001b[39m \u001b[35mLinearAlgebra\u001b[39m \u001b[90mC:\\Users\\Joseph\\.julia\\juliaup\\julia-1.11.5+0.x64.w64.mingw32\\share\\julia\\stdlib\\v1.11\\LinearAlgebra\\src\\\u001b[39m\u001b[90m\u001b[4mmatmul.jl:66\u001b[24m\u001b[39m",
      " [8] top-level scope",
      "\u001b[90m   @\u001b[39m \u001b[90m\u001b[4mIn[287]:2\u001b[24m\u001b[39m"
     ]
    }
   ],
   "source": [
    "print(\"Product CD: \")\n",
    "C*D\n",
    "# Error, mismatch in array dims. C is 3 x 1, D is 2 x 3"
   ]
  },
  {
   "cell_type": "code",
   "execution_count": null,
   "id": "429c67fc",
   "metadata": {},
   "outputs": [
    {
     "name": "stdout",
     "output_type": "stream",
     "text": [
      "Product EF: "
     ]
    },
    {
     "data": {
      "text/plain": [
       "3×3 Matrix{Int64}:\n",
       "  5  6   4\n",
       " -3  9  -6\n",
       " -6  4  -8"
      ]
     },
     "execution_count": 19,
     "metadata": {},
     "output_type": "execute_result"
    }
   ],
   "source": [
    "print(\"Product EF: \")\n",
    "E*F"
   ]
  },
  {
   "cell_type": "markdown",
   "id": "d07eff9c",
   "metadata": {},
   "source": [
    "### 1b)"
   ]
  },
  {
   "cell_type": "code",
   "execution_count": null,
   "id": "776f6971",
   "metadata": {},
   "outputs": [
    {
     "name": "stdout",
     "output_type": "stream",
     "text": [
      "A^T B"
     ]
    },
    {
     "data": {
      "text/plain": [
       "2×2 Matrix{Int64}:\n",
       " 9   1\n",
       " 4  -5"
      ]
     },
     "execution_count": 24,
     "metadata": {},
     "output_type": "execute_result"
    }
   ],
   "source": [
    "print(\"Product A^T B:\")\n",
    "A'B"
   ]
  },
  {
   "cell_type": "code",
   "execution_count": null,
   "id": "4bcc817a",
   "metadata": {},
   "outputs": [
    {
     "name": "stdout",
     "output_type": "stream",
     "text": [
      "Product A^T B:"
     ]
    },
    {
     "data": {
      "text/plain": [
       "2×2 Matrix{Int64}:\n",
       " 9   1\n",
       " 4  -5"
      ]
     },
     "execution_count": 27,
     "metadata": {},
     "output_type": "execute_result"
    }
   ],
   "source": [
    "print(\"Product A^T B:\")\n",
    "A'B"
   ]
  },
  {
   "cell_type": "code",
   "execution_count": null,
   "id": "4cdbb9d4",
   "metadata": {},
   "outputs": [
    {
     "name": "stdout",
     "output_type": "stream",
     "text": [
      "Product B D^T:"
     ]
    },
    {
     "ename": "LoadError",
     "evalue": "DimensionMismatch: matrix A has axes (Base.OneTo(2),Base.OneTo(2)), matrix B has axes (Base.OneTo(3),Base.OneTo(2))",
     "output_type": "error",
     "traceback": [
      "DimensionMismatch: matrix A has axes (Base.OneTo(2),Base.OneTo(2)), matrix B has axes (Base.OneTo(3),Base.OneTo(2))",
      "",
      "Stacktrace:",
      " [1] \u001b[0m\u001b[1m_generic_matmatmul!\u001b[22m\u001b[0m\u001b[1m(\u001b[22m\u001b[90mC\u001b[39m::\u001b[0mMatrix\u001b[90m{Int64}\u001b[39m, \u001b[90mA\u001b[39m::\u001b[0mMatrix\u001b[90m{Int64}\u001b[39m, \u001b[90mB\u001b[39m::\u001b[0mTranspose\u001b[90m{Int64, Matrix{Int64}}\u001b[39m, \u001b[90m_add\u001b[39m::\u001b[0mLinearAlgebra.MulAddMul\u001b[90m{true, true, Bool, Bool}\u001b[39m\u001b[0m\u001b[1m)\u001b[22m",
      "\u001b[90m   @\u001b[39m \u001b[35mLinearAlgebra\u001b[39m \u001b[90mC:\\Users\\Joseph\\.julia\\juliaup\\julia-1.11.5+0.x64.w64.mingw32\\share\\julia\\stdlib\\v1.11\\LinearAlgebra\\src\\\u001b[39m\u001b[90m\u001b[4mmatmul.jl:883\u001b[24m\u001b[39m",
      " [2] \u001b[0m\u001b[1mgeneric_matmatmul!\u001b[22m",
      "\u001b[90m   @\u001b[39m \u001b[90mC:\\Users\\Joseph\\.julia\\juliaup\\julia-1.11.5+0.x64.w64.mingw32\\share\\julia\\stdlib\\v1.11\\LinearAlgebra\\src\\\u001b[39m\u001b[90m\u001b[4mmatmul.jl:868\u001b[24m\u001b[39m\u001b[90m [inlined]\u001b[39m",
      " [3] \u001b[0m\u001b[1m_mul!\u001b[22m",
      "\u001b[90m   @\u001b[39m \u001b[90mC:\\Users\\Joseph\\.julia\\juliaup\\julia-1.11.5+0.x64.w64.mingw32\\share\\julia\\stdlib\\v1.11\\LinearAlgebra\\src\\\u001b[39m\u001b[90m\u001b[4mmatmul.jl:287\u001b[24m\u001b[39m\u001b[90m [inlined]\u001b[39m",
      " [4] \u001b[0m\u001b[1mmul!\u001b[22m",
      "\u001b[90m   @\u001b[39m \u001b[90mC:\\Users\\Joseph\\.julia\\juliaup\\julia-1.11.5+0.x64.w64.mingw32\\share\\julia\\stdlib\\v1.11\\LinearAlgebra\\src\\\u001b[39m\u001b[90m\u001b[4mmatmul.jl:285\u001b[24m\u001b[39m\u001b[90m [inlined]\u001b[39m",
      " [5] \u001b[0m\u001b[1mmul!\u001b[22m",
      "\u001b[90m   @\u001b[39m \u001b[90mC:\\Users\\Joseph\\.julia\\juliaup\\julia-1.11.5+0.x64.w64.mingw32\\share\\julia\\stdlib\\v1.11\\LinearAlgebra\\src\\\u001b[39m\u001b[90m\u001b[4mmatmul.jl:253\u001b[24m\u001b[39m\u001b[90m [inlined]\u001b[39m",
      " [6] \u001b[0m\u001b[1m*\u001b[22m\u001b[0m\u001b[1m(\u001b[22m\u001b[90mA\u001b[39m::\u001b[0mMatrix\u001b[90m{Int64}\u001b[39m, \u001b[90mB\u001b[39m::\u001b[0mAdjoint\u001b[90m{Int64, Matrix{Int64}}\u001b[39m\u001b[0m\u001b[1m)\u001b[22m",
      "\u001b[90m   @\u001b[39m \u001b[35mLinearAlgebra\u001b[39m \u001b[90mC:\\Users\\Joseph\\.julia\\juliaup\\julia-1.11.5+0.x64.w64.mingw32\\share\\julia\\stdlib\\v1.11\\LinearAlgebra\\src\\\u001b[39m\u001b[90m\u001b[4mmatmul.jl:114\u001b[24m\u001b[39m",
      " [7] top-level scope",
      "\u001b[90m   @\u001b[39m \u001b[90m\u001b[4mIn[29]:2\u001b[24m\u001b[39m"
     ]
    }
   ],
   "source": [
    "print(\"Product B D^T:\")\n",
    "B*D'\n",
    "# Error in dim mismatch, B is 2 x 2, D^T is 3 x 2."
   ]
  },
  {
   "cell_type": "code",
   "execution_count": null,
   "id": "79869ff0",
   "metadata": {},
   "outputs": [
    {
     "name": "stdout",
     "output_type": "stream",
     "text": [
      "Product D^T F^T:"
     ]
    },
    {
     "ename": "LoadError",
     "evalue": "DimensionMismatch: matrix A has axes (Base.OneTo(3),Base.OneTo(2)), matrix B has axes (Base.OneTo(3),Base.OneTo(2))",
     "output_type": "error",
     "traceback": [
      "DimensionMismatch: matrix A has axes (Base.OneTo(3),Base.OneTo(2)), matrix B has axes (Base.OneTo(3),Base.OneTo(2))",
      "",
      "Stacktrace:",
      " [1] \u001b[0m\u001b[1m_generic_matmatmul!\u001b[22m\u001b[0m\u001b[1m(\u001b[22m\u001b[90mC\u001b[39m::\u001b[0mMatrix\u001b[90m{Int64}\u001b[39m, \u001b[90mA\u001b[39m::\u001b[0mTranspose\u001b[90m{Int64, Matrix{Int64}}\u001b[39m, \u001b[90mB\u001b[39m::\u001b[0mTranspose\u001b[90m{Int64, Matrix{Int64}}\u001b[39m, \u001b[90m_add\u001b[39m::\u001b[0mLinearAlgebra.MulAddMul\u001b[90m{true, true, Bool, Bool}\u001b[39m\u001b[0m\u001b[1m)\u001b[22m",
      "\u001b[90m   @\u001b[39m \u001b[35mLinearAlgebra\u001b[39m \u001b[90mC:\\Users\\Joseph\\.julia\\juliaup\\julia-1.11.5+0.x64.w64.mingw32\\share\\julia\\stdlib\\v1.11\\LinearAlgebra\\src\\\u001b[39m\u001b[90m\u001b[4mmatmul.jl:883\u001b[24m\u001b[39m",
      " [2] \u001b[0m\u001b[1mgeneric_matmatmul!\u001b[22m",
      "\u001b[90m   @\u001b[39m \u001b[90mC:\\Users\\Joseph\\.julia\\juliaup\\julia-1.11.5+0.x64.w64.mingw32\\share\\julia\\stdlib\\v1.11\\LinearAlgebra\\src\\\u001b[39m\u001b[90m\u001b[4mmatmul.jl:868\u001b[24m\u001b[39m\u001b[90m [inlined]\u001b[39m",
      " [3] \u001b[0m\u001b[1m_mul!\u001b[22m",
      "\u001b[90m   @\u001b[39m \u001b[90mC:\\Users\\Joseph\\.julia\\juliaup\\julia-1.11.5+0.x64.w64.mingw32\\share\\julia\\stdlib\\v1.11\\LinearAlgebra\\src\\\u001b[39m\u001b[90m\u001b[4mmatmul.jl:287\u001b[24m\u001b[39m\u001b[90m [inlined]\u001b[39m",
      " [4] \u001b[0m\u001b[1mmul!\u001b[22m",
      "\u001b[90m   @\u001b[39m \u001b[90mC:\\Users\\Joseph\\.julia\\juliaup\\julia-1.11.5+0.x64.w64.mingw32\\share\\julia\\stdlib\\v1.11\\LinearAlgebra\\src\\\u001b[39m\u001b[90m\u001b[4mmatmul.jl:285\u001b[24m\u001b[39m\u001b[90m [inlined]\u001b[39m",
      " [5] \u001b[0m\u001b[1mmul!\u001b[22m",
      "\u001b[90m   @\u001b[39m \u001b[90mC:\\Users\\Joseph\\.julia\\juliaup\\julia-1.11.5+0.x64.w64.mingw32\\share\\julia\\stdlib\\v1.11\\LinearAlgebra\\src\\\u001b[39m\u001b[90m\u001b[4mmatmul.jl:253\u001b[24m\u001b[39m\u001b[90m [inlined]\u001b[39m",
      " [6] \u001b[0m\u001b[1m*\u001b[22m\u001b[0m\u001b[1m(\u001b[22m\u001b[90mA\u001b[39m::\u001b[0mAdjoint\u001b[90m{Int64, Matrix{Int64}}\u001b[39m, \u001b[90mB\u001b[39m::\u001b[0mAdjoint\u001b[90m{Int64, Matrix{Int64}}\u001b[39m\u001b[0m\u001b[1m)\u001b[22m",
      "\u001b[90m   @\u001b[39m \u001b[35mLinearAlgebra\u001b[39m \u001b[90mC:\\Users\\Joseph\\.julia\\juliaup\\julia-1.11.5+0.x64.w64.mingw32\\share\\julia\\stdlib\\v1.11\\LinearAlgebra\\src\\\u001b[39m\u001b[90m\u001b[4mmatmul.jl:114\u001b[24m\u001b[39m",
      " [7] top-level scope",
      "\u001b[90m   @\u001b[39m \u001b[90m\u001b[4mIn[30]:2\u001b[24m\u001b[39m"
     ]
    }
   ],
   "source": [
    "print(\"Product D^T F^T:\")\n",
    "D'F' # Error, dim mismatch. D^T is 3 x 2, F^T is 3 x 2"
   ]
  },
  {
   "cell_type": "markdown",
   "id": "80123b2c",
   "metadata": {},
   "source": [
    "# Problem 2"
   ]
  },
  {
   "cell_type": "code",
   "execution_count": null,
   "id": "8efb2279",
   "metadata": {},
   "outputs": [
    {
     "data": {
      "text/plain": [
       "3×3 Matrix{Int64}:\n",
       " 1  0  1\n",
       " 2  2  3\n",
       " 1  2  4"
      ]
     },
     "execution_count": 31,
     "metadata": {},
     "output_type": "execute_result"
    }
   ],
   "source": [
    "M = [1 0 1; 2 2 3; 1 2 4]"
   ]
  },
  {
   "cell_type": "code",
   "execution_count": null,
   "id": "1d93070c",
   "metadata": {},
   "outputs": [
    {
     "data": {
      "text/plain": [
       "3×3 Matrix{Float64}:\n",
       "  0.5    0.5   -0.5\n",
       " -1.25   0.75  -0.25\n",
       "  0.5   -0.5    0.5"
      ]
     },
     "execution_count": 32,
     "metadata": {},
     "output_type": "execute_result"
    }
   ],
   "source": [
    "inv(M)"
   ]
  },
  {
   "cell_type": "code",
   "execution_count": null,
   "id": "93ea0620",
   "metadata": {},
   "outputs": [
    {
     "data": {
      "text/plain": [
       "3×3 Matrix{Float64}:\n",
       " 1.0  0.0  0.0\n",
       " 0.0  1.0  0.0\n",
       " 0.0  0.0  1.0"
      ]
     },
     "execution_count": 33,
     "metadata": {},
     "output_type": "execute_result"
    }
   ],
   "source": [
    "M*inv(M)"
   ]
  },
  {
   "cell_type": "markdown",
   "id": "0ba3003a",
   "metadata": {},
   "source": [
    "# Problem 3"
   ]
  },
  {
   "cell_type": "code",
   "execution_count": null,
   "id": "30269677",
   "metadata": {},
   "outputs": [
    {
     "data": {
      "text/plain": [
       "3×3 Matrix{Float64}:\n",
       "  0.428571  -0.285714  -0.857143\n",
       " -0.857143  -0.428571  -0.285714\n",
       " -0.285714   0.857143  -0.428571"
      ]
     },
     "execution_count": 35,
     "metadata": {},
     "output_type": "execute_result"
    }
   ],
   "source": [
    "P = [3 -2 -6; -6 -3 -2; -2 6 -3] ./ 7"
   ]
  },
  {
   "cell_type": "code",
   "execution_count": null,
   "id": "7464bd8e",
   "metadata": {},
   "outputs": [
    {
     "data": {
      "text/plain": [
       "3×3 Matrix{Float64}:\n",
       "  1.0          2.77556e-17  -1.38778e-17\n",
       "  2.77556e-17  1.0           0.0\n",
       " -1.38778e-17  0.0           1.0"
      ]
     },
     "execution_count": 37,
     "metadata": {},
     "output_type": "execute_result"
    }
   ],
   "source": [
    "P'P "
   ]
  },
  {
   "cell_type": "code",
   "execution_count": null,
   "id": "4830c6f0",
   "metadata": {},
   "outputs": [
    {
     "data": {
      "text/plain": [
       "3×3 Matrix{Float64}:\n",
       "  1.0          -2.77556e-17   0.0\n",
       " -2.77556e-17   1.0          -1.38778e-17\n",
       "  0.0          -1.38778e-17   1.0"
      ]
     },
     "execution_count": 38,
     "metadata": {},
     "output_type": "execute_result"
    }
   ],
   "source": [
    "P*P'"
   ]
  },
  {
   "cell_type": "markdown",
   "id": "6a74d514",
   "metadata": {},
   "source": [
    "These are both, up to some floating point error, equal to the identity."
   ]
  },
  {
   "cell_type": "markdown",
   "id": "f6b08ada",
   "metadata": {},
   "source": [
    "# Problem 4"
   ]
  },
  {
   "cell_type": "code",
   "execution_count": null,
   "id": "ae93fc29",
   "metadata": {},
   "outputs": [],
   "source": [
    "A = [-1 3 5 2;\n",
    "      1 9 8 4;\n",
    "      0 1 0 1;\n",
    "      1 1 1 -1]\n",
    "\n",
    "b = [10; 15; 2; -3]\n",
    ";"
   ]
  },
  {
   "cell_type": "code",
   "execution_count": null,
   "id": "e3ff0fd0",
   "metadata": {},
   "outputs": [
    {
     "data": {
      "text/plain": [
       "4-element Vector{Float64}:\n",
       "  4.666666666666659\n",
       " -4.333333333333327\n",
       "  2.999999999999997\n",
       "  6.333333333333328"
      ]
     },
     "execution_count": 17,
     "metadata": {},
     "output_type": "execute_result"
    }
   ],
   "source": [
    "A \\ b"
   ]
  },
  {
   "cell_type": "code",
   "execution_count": null,
   "id": "91ad817f",
   "metadata": {},
   "outputs": [
    {
     "data": {
      "text/plain": [
       "-2.9999999999999987"
      ]
     },
     "execution_count": 20,
     "metadata": {},
     "output_type": "execute_result"
    }
   ],
   "source": [
    "det(A)"
   ]
  },
  {
   "cell_type": "markdown",
   "id": "410bbb20",
   "metadata": {},
   "source": [
    "# Problem 5"
   ]
  },
  {
   "cell_type": "code",
   "execution_count": null,
   "id": "ce77e364",
   "metadata": {},
   "outputs": [],
   "source": [
    "A = [4 -1 -1  0;\n",
    "    -1  4  0 -1;\n",
    "    -1  0  4 -1;\n",
    "     0 -1 -1  4]\n",
    "\n",
    "b = [1; 2; 0; 1]\n",
    ";"
   ]
  },
  {
   "cell_type": "code",
   "execution_count": null,
   "id": "44f1570b",
   "metadata": {},
   "outputs": [
    {
     "data": {
      "text/plain": [
       "3-element Vector{Float64}:\n",
       " 3.0\n",
       " 3.0\n",
       " 3.0"
      ]
     },
     "execution_count": 76,
     "metadata": {},
     "output_type": "execute_result"
    }
   ],
   "source": [
    "c = [1;2;3]\n",
    "d = [2;4;6]\n",
    "\n",
    "3*ones(length(c))"
   ]
  },
  {
   "cell_type": "code",
   "execution_count": null,
   "id": "1a7e23e6",
   "metadata": {},
   "outputs": [
    {
     "data": {
      "text/plain": [
       "gauss_seidel_tol (generic function with 1 method)"
      ]
     },
     "execution_count": 102,
     "metadata": {},
     "output_type": "execute_result"
    }
   ],
   "source": [
    "# set number of iterations\n",
    "function gauss_seidel_iter(A, b; iter = 25, init_guess = nothing)\n",
    "    U = triu(A) - diagm(diag(A)) # strictly upper triangular part of A\n",
    "    L = tril(A)               # lower triangular (with diag) part of A\n",
    "\n",
    "    if isnothing(init_guess)\n",
    "        init_guess = [0; 0; 0; 0]\n",
    "    end \n",
    "\n",
    "    x = init_guess\n",
    "    for i ∈ 1:iter\n",
    "        x_new = L \\ (b - U * x)\n",
    "        x = x_new\n",
    "    end\n",
    "\n",
    "    return x\n",
    "end\n",
    "\n",
    "# error less than set tolerance\n",
    "function gauss_seidel_tol(A, b; tol = 1e-5, init_guess = nothing)\n",
    "    U = triu(A) - diagm(diag(A)) # strictly upper triangular part of A\n",
    "    L = tril(A)               # lower triangular (with diag) part of A\n",
    "\n",
    "    true_x = A \\ b\n",
    "    max_error = tol * ones(length(b)) \n",
    "\n",
    "    if isnothing(init_guess)\n",
    "        init_guess = [0; 0; 0; 0]\n",
    "    end \n",
    "\n",
    "    x = init_guess\n",
    "    error = 1e8 * ones(length(b))\n",
    "    iterations = 0\n",
    "    while error > max_error\n",
    "        x_new = L \\ (b - U * x)\n",
    "        x = x_new\n",
    "        error = abs.(true_x - x)\n",
    "        iterations += 1\n",
    "    end\n",
    "    print(\"Iterations 'til convergence: $iterations\")\n",
    "    print(\"\\nTrue solution: x = $true_x\")\n",
    "    print(\"\\nIterative solution: x = $x\")\n",
    "end"
   ]
  },
  {
   "cell_type": "code",
   "execution_count": null,
   "id": "5c310f3e",
   "metadata": {},
   "outputs": [
    {
     "name": "stdout",
     "output_type": "stream",
     "text": [
      "Iterations 'til convergence: 9\n",
      "True solution: x = [0.5, 0.75, 0.25, 0.5]\n",
      "Iterative solution: x = [0.49999427795410156, 0.7499971389770508, 0.24999713897705078, 0.4999985694885254]"
     ]
    }
   ],
   "source": [
    "x = gauss_seidel_tol(A,b, tol = 1e-5)"
   ]
  },
  {
   "cell_type": "code",
   "execution_count": null,
   "id": "23362f84",
   "metadata": {},
   "outputs": [
    {
     "data": {
      "text/plain": [
       "4-element Vector{Float64}:\n",
       " 0.5\n",
       " 0.75\n",
       " 0.25\n",
       " 0.5"
      ]
     },
     "execution_count": 62,
     "metadata": {},
     "output_type": "execute_result"
    }
   ],
   "source": [
    "A \\ b"
   ]
  },
  {
   "cell_type": "markdown",
   "id": "edbd88d9",
   "metadata": {},
   "source": [
    "# Problem 6"
   ]
  },
  {
   "cell_type": "markdown",
   "id": "302405f3",
   "metadata": {},
   "source": [
    "### Inverse:"
   ]
  },
  {
   "cell_type": "markdown",
   "id": "49ce9578",
   "metadata": {},
   "source": [
    "\\begin{align*}\n",
    "    \\mathsf{A} \\vec{x}_i = \\vec{e}_i \\tag{4.99} \\\\\n",
    "    \\mathsf{L}(\\mathsf{U}\\vec{x_i}) = \\vec{e}_i\n",
    "\\end{align*}\n",
    "\n",
    "Inverse of $\\mathsf{A}$ is found by forward substitution with $\\mathsf{L}$ and $\\vec{e_i}$, giving $\\vec{y}_i$, then back substitution with $\\mathsf{U}$ and $\\vec{y}_i$ to get $\\vec{x_i}$, which are the columns of the matrix inverse."
   ]
  },
  {
   "cell_type": "code",
   "execution_count": null,
   "id": "5313a1f4",
   "metadata": {},
   "outputs": [],
   "source": [
    "function fwd_sub(L, b)\n",
    "    n = length(b)\n",
    "    x = zeros(n)\n",
    "\n",
    "    for i ∈ 1:n\n",
    "        x[i] = (b[i] - dot(L[i,1:i-1], x[1:i-1])) / L[i,i]\n",
    "    end\n",
    "\n",
    "    return x\n",
    "end\n",
    "\n",
    "function back_sub(U, b)\n",
    "    n = length(b)\n",
    "    x = zeros(n)\n",
    "\n",
    "    for i in n:-1:1\n",
    "        x[i] = (b[i] - dot(U[i,i+1:end], x[i+1:end])) / U[i,i]\n",
    "    end\n",
    "\n",
    "    return x\n",
    "end\n",
    ";"
   ]
  },
  {
   "cell_type": "code",
   "execution_count": null,
   "id": "6e2ef025",
   "metadata": {},
   "outputs": [
    {
     "data": {
      "text/plain": [
       "lu_inverse (generic function with 1 method)"
      ]
     },
     "execution_count": 281,
     "metadata": {},
     "output_type": "execute_result"
    }
   ],
   "source": [
    "function lu_inverse(A)\n",
    "    A = float.(A)\n",
    "    L, U = lu(A)\n",
    "    n = length(diag(A))\n",
    "\n",
    "    A_inv = zeros(n,n)\n",
    "\n",
    "    for i ∈ 1:n\n",
    "        e_i = zeros(n)\n",
    "        e_i[i] = 1\n",
    "\n",
    "        y = fwd_sub(L,e_i)\n",
    "        x = back_sub(U,y)\n",
    "\n",
    "        A_inv[:, i] = x\n",
    "    end\n",
    "\n",
    "    return A_inv\n",
    "end"
   ]
  },
  {
   "cell_type": "code",
   "execution_count": null,
   "id": "07c2731a",
   "metadata": {},
   "outputs": [
    {
     "data": {
      "text/plain": [
       "4×4 Matrix{Float64}:\n",
       " 0.291667   0.0833333  0.0833333  0.0416667\n",
       " 0.0833333  0.291667   0.0416667  0.0833333\n",
       " 0.0833333  0.0416667  0.291667   0.0833333\n",
       " 0.0416667  0.0833333  0.0833333  0.291667"
      ]
     },
     "execution_count": 282,
     "metadata": {},
     "output_type": "execute_result"
    }
   ],
   "source": [
    "lu_inverse(A)"
   ]
  },
  {
   "cell_type": "code",
   "execution_count": null,
   "id": "3921822f",
   "metadata": {},
   "outputs": [
    {
     "data": {
      "text/plain": [
       "4×4 Matrix{Float64}:\n",
       " 0.291667   0.0833333  0.0833333  0.0416667\n",
       " 0.0833333  0.291667   0.0416667  0.0833333\n",
       " 0.0833333  0.0416667  0.291667   0.0833333\n",
       " 0.0416667  0.0833333  0.0833333  0.291667"
      ]
     },
     "execution_count": 283,
     "metadata": {},
     "output_type": "execute_result"
    }
   ],
   "source": [
    "inv(A)"
   ]
  },
  {
   "cell_type": "markdown",
   "id": "170df94d",
   "metadata": {},
   "source": [
    "### Determinant"
   ]
  },
  {
   "cell_type": "markdown",
   "id": "18ca5e4a",
   "metadata": {},
   "source": [
    "\\begin{align*}\n",
    "    \\det{\\mathsf{A}}\n",
    "    = \\det \\mathsf{L} \\det{\\mathsf{U}}\n",
    "    = \\left(\\prod_{k=1}^n 1\\right)\\left(\\prod_{k=1}^n U_{kk}\\right) = \\prod_{k=1}^n U_{kk}\n",
    "\\end{align*}"
   ]
  },
  {
   "cell_type": "code",
   "execution_count": null,
   "id": "b5accb10",
   "metadata": {},
   "outputs": [
    {
     "data": {
      "text/plain": [
       "6"
      ]
     },
     "execution_count": 187,
     "metadata": {},
     "output_type": "execute_result"
    }
   ],
   "source": [
    "prod([1;2;3])"
   ]
  },
  {
   "cell_type": "code",
   "execution_count": null,
   "id": "8076c0b2",
   "metadata": {},
   "outputs": [
    {
     "data": {
      "text/plain": [
       "lu_det (generic function with 1 method)"
      ]
     },
     "execution_count": 188,
     "metadata": {},
     "output_type": "execute_result"
    }
   ],
   "source": [
    "function lu_det(A)\n",
    "    A = float.(A)\n",
    "    L, U = lu(A)\n",
    "\n",
    "    return prod(diag(U))\n",
    "end"
   ]
  },
  {
   "cell_type": "code",
   "execution_count": null,
   "id": "8e04f564",
   "metadata": {},
   "outputs": [
    {
     "data": {
      "text/plain": [
       "192.0"
      ]
     },
     "execution_count": 189,
     "metadata": {},
     "output_type": "execute_result"
    }
   ],
   "source": [
    "lu_det(A)"
   ]
  },
  {
   "cell_type": "code",
   "execution_count": null,
   "id": "3766db34",
   "metadata": {},
   "outputs": [
    {
     "data": {
      "text/plain": [
       "192.0"
      ]
     },
     "execution_count": 190,
     "metadata": {},
     "output_type": "execute_result"
    }
   ],
   "source": [
    "det(A)"
   ]
  },
  {
   "cell_type": "markdown",
   "id": "868b40ae",
   "metadata": {},
   "source": [
    "# Problem 7"
   ]
  },
  {
   "cell_type": "code",
   "execution_count": null,
   "id": "6cff9865",
   "metadata": {},
   "outputs": [],
   "source": [
    "A = [0.780 0.563; 0.913 0.659]\n",
    "b = [0.217; 0.254]\n",
    "\n",
    "x_exact = [1;-1]\n",
    "x_α = [0.999, -1.001]\n",
    "x_β = [0.341, -0.087]\n",
    ";"
   ]
  },
  {
   "cell_type": "code",
   "execution_count": null,
   "id": "a0a46d11",
   "metadata": {},
   "outputs": [
    {
     "data": {
      "text/plain": [
       "2-element Vector{Float64}:\n",
       " 0.0013429999999998998\n",
       " 0.0015720000000000178"
      ]
     },
     "execution_count": 195,
     "metadata": {},
     "output_type": "execute_result"
    }
   ],
   "source": [
    "r_α = b - A*x_α"
   ]
  },
  {
   "cell_type": "code",
   "execution_count": null,
   "id": "59b1b5c2",
   "metadata": {},
   "outputs": [
    {
     "data": {
      "text/plain": [
       "2-element Vector{Float64}:\n",
       " 9.99999999945489e-7\n",
       " 0.0"
      ]
     },
     "execution_count": 196,
     "metadata": {},
     "output_type": "execute_result"
    }
   ],
   "source": [
    "r_β = b - A*x_β"
   ]
  },
  {
   "cell_type": "markdown",
   "id": "6913af97",
   "metadata": {},
   "source": [
    "No, the more accurate solution has a *larger* residual than the less accurate solution."
   ]
  },
  {
   "cell_type": "code",
   "execution_count": null,
   "id": "41659134",
   "metadata": {},
   "outputs": [
    {
     "data": {
      "text/plain": [
       "1.0000000001226806e-6"
      ]
     },
     "execution_count": 197,
     "metadata": {},
     "output_type": "execute_result"
    }
   ],
   "source": [
    "det(A)"
   ]
  },
  {
   "cell_type": "markdown",
   "id": "1e4c1432",
   "metadata": {},
   "source": [
    "Yes, the determinant being so close to 0 means this matrix is ill-conditioned, which is why there is numerical weirdness."
   ]
  },
  {
   "cell_type": "code",
   "execution_count": null,
   "id": "5a213e3d",
   "metadata": {},
   "outputs": [
    {
     "data": {
      "text/plain": [
       "2-element Vector{Float64}:\n",
       "  0.9999999998902543\n",
       " -0.999999999847955"
      ]
     },
     "execution_count": 202,
     "metadata": {},
     "output_type": "execute_result"
    }
   ],
   "source": [
    "A \\ b"
   ]
  },
  {
   "cell_type": "markdown",
   "id": "06e2c2d4",
   "metadata": {},
   "source": [
    "This solution vector tells us that the bad solution is bad and the good solution is good."
   ]
  },
  {
   "cell_type": "markdown",
   "id": "6c7b6767",
   "metadata": {},
   "source": [
    "# Problem 8"
   ]
  },
  {
   "cell_type": "markdown",
   "id": "c240009e",
   "metadata": {},
   "source": [
    "\\begin{align*}\n",
    "    \\vec{q}_j^{\\,\\,,} &= \\vec{q}_j - \\sum_{i=0}^{j-1}\n",
    "    (\\vec{q}_i^{\\,\\top} \\vec{a}_j)\\vec{q}_i \\\\\n",
    "    \\hat{q}^{\\,,} &= \\frac{\\vec{q}_j^{\\,\\,,}}\n",
    "    {||\\vec{q}_j^{\\,\\,,}||}\n",
    "\\end{align*}\n",
    "\n",
    "and also\n",
    "\n",
    "\\begin{align*}\n",
    "    \\mathsf{QR} &= \\mathsf{A} \\\\\n",
    "    \\mathsf{R} &= \\mathsf{Q^\\top A}\n",
    "\\end{align*}\n",
    "\n",
    "since $\\mathsf{Q}$ is orthonomal, meaning $\\mathsf{Q}^{-1} = \\mathsf{Q}^\\top$"
   ]
  },
  {
   "cell_type": "code",
   "execution_count": 303,
   "id": "e68db3aa",
   "metadata": {},
   "outputs": [],
   "source": [
    "# Taking the matrices from 5 to test with\n",
    "A = [4 -1 -1  0;\n",
    "    -1  4  0 -1;\n",
    "    -1  0  4 -1;\n",
    "     0 -1 -1  4]\n",
    "\n",
    "b = [1; 2; 0; 1]\n",
    ";"
   ]
  },
  {
   "cell_type": "code",
   "execution_count": 316,
   "id": "20866e1e",
   "metadata": {},
   "outputs": [
    {
     "data": {
      "text/plain": [
       "gram_schmidt_QR (generic function with 1 method)"
      ]
     },
     "execution_count": 316,
     "metadata": {},
     "output_type": "execute_result"
    }
   ],
   "source": [
    "# Find orthonormal Q from columns of A\n",
    "function gram_schmidt_QR(A)\n",
    "    A = float.(A)\n",
    "    n = length(diag(A))\n",
    "    \n",
    "    Q = zeros(n,n)\n",
    "\n",
    "    for j ∈ 1:n\n",
    "        other_vector_terms = zeros(n)\n",
    "        for i ∈ 1:j-1\n",
    "            q_i = Q[:, i]\n",
    "            other_vector_terms += q_i' * A[:, j] * q_i\n",
    "        end\n",
    "        q_unnormal = A[:, j] - other_vector_terms\n",
    "        Q[:, j] = q_unnormal / norm(q_unnormal) \n",
    "    end\n",
    "\n",
    "    R = Q' * A\n",
    "\n",
    "    return Q, R\n",
    "end"
   ]
  },
  {
   "cell_type": "code",
   "execution_count": 317,
   "id": "098dae0c",
   "metadata": {},
   "outputs": [],
   "source": [
    "Q, R = gram_schmidt_QR(A)\n",
    ";"
   ]
  },
  {
   "cell_type": "code",
   "execution_count": null,
   "id": "dc74957b",
   "metadata": {},
   "outputs": [
    {
     "data": {
      "text/plain": [
       "true"
      ]
     },
     "execution_count": 319,
     "metadata": {},
     "output_type": "execute_result"
    }
   ],
   "source": [
    "# check that QR is approximately A\n",
    "Q*R ≈ A"
   ]
  },
  {
   "cell_type": "code",
   "execution_count": 320,
   "id": "7c572295",
   "metadata": {},
   "outputs": [
    {
     "data": {
      "text/plain": [
       "4-element Vector{Float64}:\n",
       " 0.4999999999999999\n",
       " 0.75\n",
       " 0.24999999999999997\n",
       " 0.49999999999999994"
      ]
     },
     "execution_count": 320,
     "metadata": {},
     "output_type": "execute_result"
    }
   ],
   "source": [
    "x = back_sub(R, Q'b)"
   ]
  },
  {
   "cell_type": "code",
   "execution_count": 322,
   "id": "0e1aa4d6",
   "metadata": {},
   "outputs": [
    {
     "data": {
      "text/plain": [
       "true"
      ]
     },
     "execution_count": 322,
     "metadata": {},
     "output_type": "execute_result"
    }
   ],
   "source": [
    "x ≈ A \\ b"
   ]
  },
  {
   "cell_type": "markdown",
   "id": "7673aabf",
   "metadata": {},
   "source": [
    "# Problem 9"
   ]
  },
  {
   "cell_type": "code",
   "execution_count": null,
   "id": "11147168",
   "metadata": {},
   "outputs": [
    {
     "data": {
      "text/plain": [
       "3×3 Matrix{Int64}:\n",
       " 1  0   0\n",
       " 0  0   0\n",
       " 0  0  -1"
      ]
     },
     "execution_count": 325,
     "metadata": {},
     "output_type": "execute_result"
    }
   ],
   "source": [
    "M_x = [0 1 0; 1 0 1; 0 1 0] / sqrt(2)\n",
    "M_y = [0 -im 0; im 0 -im; 0 im 0] / sqrt(2)\n",
    "M_z = [1 0 0; 0 0 0; 0 0 -1]\n",
    ";"
   ]
  },
  {
   "cell_type": "markdown",
   "id": "a5291834",
   "metadata": {},
   "source": [
    "### Test commutation relations"
   ]
  },
  {
   "cell_type": "code",
   "execution_count": 326,
   "id": "57365a96",
   "metadata": {},
   "outputs": [
    {
     "data": {
      "text/plain": [
       "commutator (generic function with 1 method)"
      ]
     },
     "execution_count": 326,
     "metadata": {},
     "output_type": "execute_result"
    }
   ],
   "source": [
    "function commutator(A,B)\n",
    "    return A*B - B*A\n",
    "end"
   ]
  },
  {
   "cell_type": "code",
   "execution_count": 357,
   "id": "152d334d",
   "metadata": {},
   "outputs": [
    {
     "name": "stdout",
     "output_type": "stream",
     "text": [
      "[M_x, M_y]:"
     ]
    },
    {
     "data": {
      "text/plain": [
       "3×3 Matrix{ComplexF64}:\n",
       " 0.0+1.0im  0.0+0.0im  0.0+0.0im\n",
       " 0.0+0.0im  0.0+0.0im  0.0+0.0im\n",
       " 0.0+0.0im  0.0+0.0im  0.0-1.0im"
      ]
     },
     "execution_count": 357,
     "metadata": {},
     "output_type": "execute_result"
    }
   ],
   "source": [
    "print(\"[M_x, M_y]:\")\n",
    "comm1 = commutator(M_x, M_y)"
   ]
  },
  {
   "cell_type": "code",
   "execution_count": 358,
   "id": "63ad4309",
   "metadata": {},
   "outputs": [
    {
     "name": "stdout",
     "output_type": "stream",
     "text": [
      "[M_y, M_z]:"
     ]
    },
    {
     "data": {
      "text/plain": [
       "3×3 Matrix{ComplexF64}:\n",
       " 0.0+0.0im       0.0+0.707107im  0.0+0.0im\n",
       " 0.0+0.707107im  0.0+0.0im       0.0+0.707107im\n",
       " 0.0+0.0im       0.0+0.707107im  0.0+0.0im"
      ]
     },
     "execution_count": 358,
     "metadata": {},
     "output_type": "execute_result"
    }
   ],
   "source": [
    "print(\"[M_y, M_z]:\")\n",
    "comm2 = commutator(M_y, M_z)"
   ]
  },
  {
   "cell_type": "code",
   "execution_count": 359,
   "id": "65778cf5",
   "metadata": {},
   "outputs": [
    {
     "name": "stdout",
     "output_type": "stream",
     "text": [
      "[M_z, M_x]:"
     ]
    },
    {
     "data": {
      "text/plain": [
       "3×3 Matrix{Float64}:\n",
       "  0.0        0.707107  0.0\n",
       " -0.707107   0.0       0.707107\n",
       "  0.0       -0.707107  0.0"
      ]
     },
     "execution_count": 359,
     "metadata": {},
     "output_type": "execute_result"
    }
   ],
   "source": [
    "print(\"[M_z, M_x]:\")\n",
    "comm3 = commutator(M_z, M_x)"
   ]
  },
  {
   "cell_type": "code",
   "execution_count": 360,
   "id": "2c4ae1ce",
   "metadata": {},
   "outputs": [
    {
     "name": "stdout",
     "output_type": "stream",
     "text": [
      "Does [M_x, M_y] = iM_z? true\n",
      "Does [M_y, M_z] = iM_x? true\n",
      "Does [M_z, M_x] = iM_y? true"
     ]
    }
   ],
   "source": [
    "test = comm1 ≈ im*M_z\n",
    "print(\"Does [M_x, M_y] = iM_z? $test\")\n",
    "\n",
    "test = comm2 ≈ im*M_x\n",
    "print(\"\\nDoes [M_y, M_z] = iM_x? $test\")\n",
    "\n",
    "test = comm3 ≈ im*M_y\n",
    "print(\"\\nDoes [M_z, M_x] = iM_y? $test\")"
   ]
  },
  {
   "cell_type": "markdown",
   "id": "4fe0ba9a",
   "metadata": {},
   "source": [
    "### $M^2 = M_x^2 + M_y^2 + M_z^2$"
   ]
  },
  {
   "cell_type": "code",
   "execution_count": 361,
   "id": "bcab46b0",
   "metadata": {},
   "outputs": [
    {
     "data": {
      "text/plain": [
       "3×3 Matrix{ComplexF64}:\n",
       " 2.0+0.0im  0.0+0.0im  0.0+0.0im\n",
       " 0.0+0.0im  2.0+0.0im  0.0+0.0im\n",
       " 0.0+0.0im  0.0+0.0im  2.0+0.0im"
      ]
     },
     "execution_count": 361,
     "metadata": {},
     "output_type": "execute_result"
    }
   ],
   "source": [
    "M_x * M_x + M_y * M_y + M_z * M_z"
   ]
  },
  {
   "cell_type": "markdown",
   "id": "2640553d",
   "metadata": {},
   "source": [
    "### The $L$ ones"
   ]
  },
  {
   "cell_type": "code",
   "execution_count": 362,
   "id": "005437c9",
   "metadata": {},
   "outputs": [
    {
     "data": {
      "text/plain": [
       "3×3 Matrix{ComplexF64}:\n",
       " 2.0+0.0im  0.0+0.0im   0.0+0.0im\n",
       " 0.0+0.0im  0.0+0.0im   0.0+0.0im\n",
       " 0.0+0.0im  0.0+0.0im  -2.0+0.0im"
      ]
     },
     "execution_count": 362,
     "metadata": {},
     "output_type": "execute_result"
    }
   ],
   "source": [
    "L⁺ = M_x + im*M_y\n",
    "L⁻ = M_x - im*M_y\n",
    "\n",
    "comm4 = commutator(L⁺, L⁻)"
   ]
  },
  {
   "cell_type": "code",
   "execution_count": 363,
   "id": "8823b1ab",
   "metadata": {},
   "outputs": [
    {
     "name": "stdout",
     "output_type": "stream",
     "text": [
      "\n",
      "Does [L+, L-] = 2M_z? true"
     ]
    }
   ],
   "source": [
    "test = comm4 ≈ 2*M_z\n",
    "print(\"\\nDoes [L+, L-] = 2M_z? $test\")"
   ]
  },
  {
   "cell_type": "markdown",
   "id": "73f50cfc",
   "metadata": {},
   "source": [
    "# Problem 10"
   ]
  },
  {
   "cell_type": "code",
   "execution_count": 367,
   "id": "2e1c61b5",
   "metadata": {},
   "outputs": [],
   "source": [
    "L⁺ = [0 1 0; 0 0 1; 0 0 0]\n",
    "L⁻ = [0 0 0; 1 0 0; 0 1 0]\n",
    "\n",
    "ket_1 = [1;0;0]\n",
    "ket_0 = [0;1;0]\n",
    "ket_minus1 = [0;0;1]\n",
    ";"
   ]
  },
  {
   "cell_type": "code",
   "execution_count": 368,
   "id": "81a1d056",
   "metadata": {},
   "outputs": [
    {
     "data": {
      "text/plain": [
       "3-element Vector{Int64}:\n",
       " 0\n",
       " 1\n",
       " 0"
      ]
     },
     "execution_count": 368,
     "metadata": {},
     "output_type": "execute_result"
    }
   ],
   "source": [
    "L⁺ * ket_minus1"
   ]
  },
  {
   "cell_type": "code",
   "execution_count": 369,
   "id": "45bbb6a7",
   "metadata": {},
   "outputs": [
    {
     "data": {
      "text/plain": [
       "3-element Vector{Int64}:\n",
       " 0\n",
       " 0\n",
       " 0"
      ]
     },
     "execution_count": 369,
     "metadata": {},
     "output_type": "execute_result"
    }
   ],
   "source": [
    "L⁻ * ket_minus1"
   ]
  },
  {
   "cell_type": "code",
   "execution_count": 370,
   "id": "b502ac75",
   "metadata": {},
   "outputs": [
    {
     "data": {
      "text/plain": [
       "3-element Vector{Int64}:\n",
       " 1\n",
       " 0\n",
       " 0"
      ]
     },
     "execution_count": 370,
     "metadata": {},
     "output_type": "execute_result"
    }
   ],
   "source": [
    "L⁺ * ket_0"
   ]
  },
  {
   "cell_type": "code",
   "execution_count": 371,
   "id": "b56bf252",
   "metadata": {},
   "outputs": [
    {
     "data": {
      "text/plain": [
       "3-element Vector{Int64}:\n",
       " 0\n",
       " 0\n",
       " 1"
      ]
     },
     "execution_count": 371,
     "metadata": {},
     "output_type": "execute_result"
    }
   ],
   "source": [
    "L⁻ * ket_0"
   ]
  },
  {
   "cell_type": "code",
   "execution_count": 372,
   "id": "5428f810",
   "metadata": {},
   "outputs": [
    {
     "data": {
      "text/plain": [
       "3-element Vector{Int64}:\n",
       " 0\n",
       " 0\n",
       " 0"
      ]
     },
     "execution_count": 372,
     "metadata": {},
     "output_type": "execute_result"
    }
   ],
   "source": [
    "L⁺ * ket_1"
   ]
  },
  {
   "cell_type": "code",
   "execution_count": 373,
   "id": "7e67271a",
   "metadata": {},
   "outputs": [
    {
     "data": {
      "text/plain": [
       "3-element Vector{Int64}:\n",
       " 0\n",
       " 1\n",
       " 0"
      ]
     },
     "execution_count": 373,
     "metadata": {},
     "output_type": "execute_result"
    }
   ],
   "source": [
    "L⁻ * ket_1"
   ]
  },
  {
   "cell_type": "code",
   "execution_count": null,
   "id": "07319d92",
   "metadata": {},
   "outputs": [],
   "source": []
  }
 ],
 "metadata": {
  "kernelspec": {
   "display_name": "Julia 1.11.5",
   "language": "julia",
   "name": "julia-1.11"
  },
  "language_info": {
   "file_extension": ".jl",
   "mimetype": "application/julia",
   "name": "julia",
   "version": "1.11.5"
  }
 },
 "nbformat": 4,
 "nbformat_minor": 5
}
