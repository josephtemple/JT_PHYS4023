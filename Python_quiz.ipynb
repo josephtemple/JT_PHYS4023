{
 "cells": [
  {
   "cell_type": "markdown",
   "id": "9068a90d-a1e2-467b-ae18-c579c72aae23",
   "metadata": {},
   "source": [
    "# Beginning python 'Quiz'"
   ]
  },
  {
   "cell_type": "markdown",
   "id": "886a5520-2c8c-4a84-a3ef-e10da18604ea",
   "metadata": {},
   "source": [
    "*Instructions* - Download and/or copy this notebook to your code repository. Complete the blank items in code ceels to get the desired value(s). Save and upload (or push) to github when finished. "
   ]
  },
  {
   "cell_type": "markdown",
   "id": "95f8e997-dc3a-4445-91de-e4b04cae00f5",
   "metadata": {},
   "source": [
    "## 1. Basic arrays (Fill in the blank) "
   ]
  },
  {
   "cell_type": "code",
   "execution_count": 1,
   "id": "b3e7f938-041c-404d-9c97-85df04bb1e45",
   "metadata": {},
   "outputs": [
    {
     "name": "stdout",
     "output_type": "stream",
     "text": [
      "Numbers: [1 2 3 4 5]\n",
      "Range: [0 1 2 3 4 5 6 7 8 9]\n",
      "Spaced: [ 0.  2.  4.  6.  8. 10.]\n",
      "\n",
      "Array Properties:\n",
      "Length: 6\n",
      "Shape: (6,)\n",
      "Type: [1 2 3 4 5]\n"
     ]
    }
   ],
   "source": [
    "import numpy as np\n",
    "\n",
    "# Creating numpy arrays\n",
    "numbers = np.array([1, 2, 3, 4, 5])\n",
    "range_array = np.arange(10)\n",
    "spaced = np.linspace(0, 10, 6)  # make an array of 6 points from 0 to 10\n",
    "\n",
    "print(\"Numbers:\", numbers)\n",
    "print(\"Range:\", range_array)\n",
    "print(\"Spaced:\", spaced)\n",
    "\n",
    "# Array properties -\n",
    "print(f\"\\nArray Properties:\")\n",
    "print(f\"Length: {len(spaced)}\") # confirm the length of the 'range_array' is 10\n",
    "print(f\"Shape: {spaced.shape}\") \n",
    "print(f\"Type: {numbers}\")# print the data type of the 'numbers' array"
   ]
  },
  {
   "cell_type": "markdown",
   "id": "79236b4c-d9c9-4f64-aff8-50d32202eae2",
   "metadata": {},
   "source": [
    "## 2. Basic Array Math (Fill in the blanks)"
   ]
  },
  {
   "cell_type": "code",
   "execution_count": 2,
   "id": "53e56ee0-ba6b-4011-9794-e0f8b5d7606c",
   "metadata": {},
   "outputs": [
    {
     "name": "stdout",
     "output_type": "stream",
     "text": [
      "Original: [1 2 3 4 5]\n",
      "Multiply by 3: [ 3  6  9 12 15]\n",
      "Squared: [ 1  4  9 16 25]\n",
      "Sum of Arrays: [5 7 9]\n"
     ]
    }
   ],
   "source": [
    "# Math with arrays - works on ALL elements at once\n",
    "data = np.array([1, 2, 3, 4, 5])\n",
    "\n",
    "print(\"Original:\", data)\n",
    "print(\"Multiply by 3:\", data*3 ) # Multiply the elements in 'data' by 3\n",
    "print(\"Squared:\", data**2 ) # Square the elements in 'data'\n",
    "\n",
    "# Compare two arrays\n",
    "array1 = np.array([1, 2, 3])\n",
    "array2 = np.array([4, 5, 6])\n",
    "\n",
    "print(f\"Sum of Arrays: {array1 + array2}\") # Add array1 and array2"
   ]
  },
  {
   "cell_type": "markdown",
   "id": "a4a6f2d8-79ef-4305-8202-ea6b5b57a038",
   "metadata": {},
   "source": [
    "## 3. Statistics (Fill in the blanks)"
   ]
  },
  {
   "cell_type": "code",
   "execution_count": 3,
   "id": "2cf355f8-d0ae-42d9-9ee6-9379407e52b5",
   "metadata": {},
   "outputs": [
    {
     "name": "stdout",
     "output_type": "stream",
     "text": [
      "Test scores: [85 92 78 95 88 76 90 82]\n",
      "Number of students: 8\n",
      "\n",
      "Statistics:\n",
      "Average: 85.75\n",
      "Range: 19\n",
      "Median: 86.5\n",
      "Standard deviation: 6.299801584177076\n",
      "Sum: 686\n"
     ]
    }
   ],
   "source": [
    "scores = np.array([85, 92, 78, 95, 88, 76, 90, 82])\n",
    "\n",
    "print(\"Test scores:\", scores)\n",
    "print(f\"Number of students: {len(scores)}\")\n",
    "\n",
    "# Basic statistics\n",
    "print(f\"\\nStatistics:\")\n",
    "print(f\"Average: {scores.mean()}\") #find the average of scores\n",
    "print(f\"Range: {scores.max() - scores.min()}\") #determine the range of scores\n",
    "\n",
    "# More statistics\n",
    "print(f\"Median: {np.median(scores):.1f}\")\n",
    "print(f\"Standard deviation: {scores.std()}\") #find the standard deviation. Display only 1 decimal place in your response\n",
    "print(f\"Sum: {np.sum(scores)}\")"
   ]
  },
  {
   "cell_type": "markdown",
   "id": "1f130928-14c1-498e-9527-70b78e50897a",
   "metadata": {},
   "source": [
    "## 4. Working with array values (Fill in the blanks)"
   ]
  },
  {
   "cell_type": "code",
   "execution_count": 5,
   "id": "1a72598e-9cc0-487a-a8cb-0af03be1fe72",
   "metadata": {},
   "outputs": [
    {
     "name": "stdout",
     "output_type": "stream",
     "text": [
      "Data: [12  8 15 23  9 18  6 21]\n",
      "Maximum value 23 is at position 3\n",
      "Minimum value 6 is at position 6\n",
      "\n",
      "Values above 12: [False False  True  True False  True False  True]\n",
      "Actual values above 12: [15 23 18 21]\n",
      "How many above 12: 4\n"
     ]
    }
   ],
   "source": [
    "data = np.array([12, 8, 15, 23, 9, 18, 6, 21])\n",
    "\n",
    "print(\"Data:\", data)\n",
    "\n",
    "# Find positions\n",
    "max_pos = np.argmax(data)  # Position of maximum\n",
    "min_pos = np.argmin(data)  # Position of minimum\n",
    "\n",
    "print(f\"Maximum value {np.max(data)} is at position {max_pos}\")\n",
    "print(f\"Minimum value {np.min(data)} is at position {min_pos}\")\n",
    "\n",
    "# Boolean conditions\n",
    "above_12 = data > 12 #make above_12 a bool array that identfied elements greater than 12 as 'True'\n",
    "print(f\"\\nValues above 12: {above_12}\") #check your work here\n",
    "print(f\"Actual values above 12: {data[above_12]}\") #print the values from data using 'above_12'\n",
    "print(f\"How many above 12: {sum(above_12)}\") #print the number of values that are above 12"
   ]
  },
  {
   "cell_type": "markdown",
   "id": "75b807d3-15d3-4ce3-8fa6-ed35bd2300d7",
   "metadata": {},
   "source": [
    "## 5. Putting it all together :-)"
   ]
  },
  {
   "cell_type": "code",
   "execution_count": 8,
   "id": "35838caa-95fd-4abe-a3c8-3c919a46d7fb",
   "metadata": {},
   "outputs": [
    {
     "name": "stdout",
     "output_type": "stream",
     "text": [
      "Raw measurements: [5.1 4.9 5.2 4.8 5.  5.3 4.7 5.1]\n",
      "\n",
      "Analysis:\n",
      "Average: 5.01\n",
      "Standard deviation: 0.190\n",
      "\n",
      "Checking each measurement:\n",
      "Point 1: 5.1 - OK\n",
      "Point 2: 4.9 - OK\n",
      "Point 3: 5.2 - OK\n",
      "Point 4: 4.8 - OUTLIER\n",
      "Point 5: 5.0 - OK\n",
      "Point 6: 5.3 - OUTLIER\n",
      "Point 7: 4.7 - OUTLIER\n",
      "Point 8: 5.1 - OK\n",
      "\n",
      "Summary:\n",
      "Total points: 8\n",
      "Good points: 5\n",
      "Outliers: 3\n"
     ]
    }
   ],
   "source": [
    "# Process some \"experimental\" data\n",
    "measurements = np.array([5.1, 4.9, 5.2, 4.8, 5.0, 5.3, 4.7, 5.1])\n",
    "\n",
    "print(\"Raw measurements:\", measurements)\n",
    "\n",
    "# Basic analysis\n",
    "average = np.mean(measurements)\n",
    "std_dev = np.std(measurements) #find the standard deviation of the 'measurements'\n",
    "\n",
    "#print values\n",
    "print(f\"\\nAnalysis:\")\n",
    "print(f\"Average: {average:.2f}\")\n",
    "print(f\"Standard deviation: {std_dev:.3f}\")\n",
    "\n",
    "# Check each measurement to determine if outlier\n",
    "print(f\"\\nChecking each measurement:\")\n",
    "for i, value in enumerate(measurements, 1):\n",
    "    difference = abs(measurements[i-1] - average) #difference between individual element in array and average value of array\n",
    "    if difference > std_dev:\n",
    "        status = \"OUTLIER\"\n",
    "    else:\n",
    "        status = \"OK\"\n",
    "    print(f\"Point {i}: {value:.1f} - {status}\")\n",
    "\n",
    "# Summary statistics\n",
    "good_data = measurements[abs(measurements - average) <= std_dev] \n",
    "print(f\"\\nSummary:\")\n",
    "print(f\"Total points: {len(measurements)}\") #print total number of measurements\n",
    "print(f\"Good points: {len(good_data)}\") # print 'good data'\n",
    "print(f\"Outliers: {len(measurements) - len(good_data)}\") #print total number of outliers"
   ]
  }
 ],
 "metadata": {
  "kernelspec": {
   "display_name": "base",
   "language": "python",
   "name": "python3"
  },
  "language_info": {
   "codemirror_mode": {
    "name": "ipython",
    "version": 3
   },
   "file_extension": ".py",
   "mimetype": "text/x-python",
   "name": "python",
   "nbconvert_exporter": "python",
   "pygments_lexer": "ipython3",
   "version": "3.10.13"
  }
 },
 "nbformat": 4,
 "nbformat_minor": 5
}
